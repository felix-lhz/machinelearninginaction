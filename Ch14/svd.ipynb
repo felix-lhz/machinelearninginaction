{
 "cells": [
  {
   "cell_type": "markdown",
   "metadata": {},
   "source": [
    "# 14 SVD"
   ]
  },
  {
   "cell_type": "markdown",
   "metadata": {},
   "source": [
    "- 优点：简化数据，去除噪声，提高算法的结果\n",
    "- 缺点：数据的转换可能难以理解"
   ]
  },
  {
   "cell_type": "code",
   "execution_count": 1,
   "metadata": {},
   "outputs": [],
   "source": [
    "import numpy as np"
   ]
  },
  {
   "cell_type": "code",
   "execution_count": 2,
   "metadata": {},
   "outputs": [
    {
     "name": "stdout",
     "output_type": "stream",
     "text": [
      "U:  [[-0.14142136 -0.98994949]\n",
      " [-0.98994949  0.14142136]]\n",
      "Sigma:  [10.  0.]\n",
      "VT:  [[-0.70710678 -0.70710678]\n",
      " [-0.70710678  0.70710678]]\n"
     ]
    }
   ],
   "source": [
    "U, Sigma, VT = np.linalg.svd([[1,1],[7,7]])\n",
    "print(\"U: \", U)\n",
    "print(\"Sigma: \", Sigma)\n",
    "print(\"VT: \", VT)"
   ]
  },
  {
   "cell_type": "code",
   "execution_count": 4,
   "metadata": {},
   "outputs": [],
   "source": [
    "def loadExData():\n",
    "    return[[1, 1, 1, 0, 0],\n",
    "           [2, 2, 2, 0, 0],\n",
    "           [1, 1, 1, 0, 0],\n",
    "           [5, 5, 5, 0, 0],\n",
    "           [1, 1, 0, 2, 2],\n",
    "           [0, 0, 0, 3, 3],\n",
    "           [0, 0, 0, 1, 1]]"
   ]
  },
  {
   "cell_type": "code",
   "execution_count": 6,
   "metadata": {},
   "outputs": [
    {
     "name": "stdout",
     "output_type": "stream",
     "text": [
      "U:  [[-1.77939726e-01 -1.64228493e-02  1.80501685e-02  9.48215967e-01\n",
      "  -2.43879623e-01  5.88803098e-02  7.53939908e-02]\n",
      " [-3.55879451e-01 -3.28456986e-02  3.61003369e-02 -2.42667431e-02\n",
      "  -1.30579552e-01 -8.77959841e-01 -2.87253136e-01]\n",
      " [-1.77939726e-01 -1.64228493e-02  1.80501685e-02 -2.86917521e-01\n",
      "  -9.17843690e-01  1.99699755e-01  5.57067394e-02]\n",
      " [-8.89698628e-01 -8.21142464e-02  9.02508423e-02 -1.22552992e-01\n",
      "   2.84576484e-01  2.99467924e-01  8.86811085e-02]\n",
      " [-1.33954753e-01  5.33527340e-01 -8.35107599e-01  3.60822483e-16\n",
      "  -8.53483950e-16  2.25514052e-16  3.05311332e-16]\n",
      " [-2.15749771e-02  7.97677135e-01  5.13074760e-01  1.71950731e-02\n",
      "  -2.25601962e-03  9.80604897e-02 -3.00138935e-01]\n",
      " [-7.19165903e-03  2.65892378e-01  1.71024920e-01 -5.15852193e-02\n",
      "   6.76805885e-03 -2.94181469e-01  9.00416804e-01]]\n",
      "Sigma:  [9.72140007e+00 5.29397912e+00 6.84226362e-01 1.50962387e-15\n",
      " 1.15387192e-31]\n",
      "VT:  [[-5.81200877e-01 -5.81200877e-01 -5.67421508e-01 -3.49564973e-02\n",
      "  -3.49564973e-02]\n",
      " [ 4.61260083e-03  4.61260083e-03 -9.61674228e-02  7.03814349e-01\n",
      "   7.03814349e-01]\n",
      " [-4.02721076e-01 -4.02721076e-01  8.17792552e-01  5.85098794e-02\n",
      "   5.85098794e-02]\n",
      " [-7.07106781e-01  7.07106781e-01 -5.55111512e-16 -1.38777878e-17\n",
      "  -6.93889390e-17]\n",
      " [ 0.00000000e+00  2.38253479e-17 -1.69766851e-17 -7.07106781e-01\n",
      "   7.07106781e-01]]\n",
      "[[ 1.00000000e+00  1.00000000e+00  1.00000000e+00 -3.17861023e-16\n",
      "  -3.16489853e-16]\n",
      " [ 2.00000000e+00  2.00000000e+00  2.00000000e+00  4.00421316e-16\n",
      "   4.03163656e-16]\n",
      " [ 1.00000000e+00  1.00000000e+00  1.00000000e+00  2.95797468e-16\n",
      "   2.97168638e-16]\n",
      " [ 5.00000000e+00  5.00000000e+00  5.00000000e+00 -2.42246003e-16\n",
      "  -2.35390153e-16]\n",
      " [ 1.00000000e+00  1.00000000e+00 -4.68474952e-17  2.00000000e+00\n",
      "   2.00000000e+00]\n",
      " [-2.02497108e-16  5.28003746e-16 -6.83279173e-16  3.00000000e+00\n",
      "   3.00000000e+00]\n",
      " [-1.31289654e-16  1.28401382e-16 -7.51634820e-17  1.00000000e+00\n",
      "   1.00000000e+00]]\n"
     ]
    }
   ],
   "source": [
    "Data = loadExData()\n",
    "U, Sigma, VT = np.linalg.svd(Data)\n",
    "print(\"U: \", U)\n",
    "print(\"Sigma: \", Sigma)\n",
    "print(\"VT: \", VT)\n",
    "Sig3 = np.mat([[Sigma[0], 0, 0], [0, Sigma[1], 0], [0, 0, Sigma[2]]])\n",
    "print(U[:, :3] * Sig3 * VT[:3, :])"
   ]
  },
  {
   "cell_type": "code",
   "execution_count": 7,
   "metadata": {},
   "outputs": [],
   "source": [
    "def ecludSim(a, b):\n",
    "    '''\n",
    "    基于欧氏距离, 计算相似度\n",
    "    '''\n",
    "    return 1.0 / (1.0 + np.linalg.norm(a - b))\n",
    "\n",
    "def pearsSim(a, b):\n",
    "    '''\n",
    "    pearsSim()函数会检查是否存在3个或更多的点\n",
    "    '''\n",
    "    if len(a) < 3: return 1.0\n",
    "    return 0.5 + 0.5 * np.corrcoef(a, b, rowvar=0)[0][1]\n",
    "\n",
    "def cosSim(a, b):\n",
    "    '''\n",
    "    基于余弦相似度, 计算相似度\n",
    "    '''\n",
    "    num = float(a.T * b)\n",
    "    denom = np.linalg.norm(a) * np.linalg.norm(b)\n",
    "    return 0.5 + 0.5 * (num / denom)"
   ]
  },
  {
   "cell_type": "code",
   "execution_count": 8,
   "metadata": {},
   "outputs": [
    {
     "name": "stdout",
     "output_type": "stream",
     "text": [
      "0.13367660240019172\n",
      "0.23768619407595815\n",
      "0.5472455591261534\n"
     ]
    }
   ],
   "source": [
    "myMat = np.mat(loadExData())\n",
    "print(ecludSim(myMat[:, 0], myMat[:, 4]))\n",
    "print(pearsSim(myMat[:, 0], myMat[:, 4]))\n",
    "print(cosSim(myMat[:, 0], myMat[:, 4]))"
   ]
  },
  {
   "cell_type": "markdown",
   "metadata": {},
   "source": [
    "### 14.5 Example: a restaurant dish recommendation engine"
   ]
  },
  {
   "cell_type": "code",
   "execution_count": 9,
   "metadata": {},
   "outputs": [],
   "source": [
    "def standEst(dataMat, user, simMeas, item):\n",
    "    '''\n",
    "    基于物品相似度的推荐引擎\n",
    "    :param dataMat: 数据矩阵\n",
    "    :param user: 用户\n",
    "    :param simMeas: 相似度计算方法\n",
    "    :param item: 物品\n",
    "    :return: 预测评分\n",
    "    '''\n",
    "    n = np.shape(dataMat)[1]\n",
    "    simTotal = 0.0; ratSimTotal = 0.0\n",
    "    for j in range(n):\n",
    "        userRating = dataMat[user, j]\n",
    "        if userRating == 0: continue\n",
    "        # 找到与item相似的物品\n",
    "        overLap = np.nonzero(np.logical_and(dataMat[:, item].A > 0, dataMat[:, j].A > 0))[0]\n",
    "        if len(overLap) == 0: similarity = 0\n",
    "        else:\n",
    "            similarity = simMeas(dataMat[overLap, item], dataMat[overLap, j])\n",
    "        print(\"the %d and %d similarity is %f\" % (item, j, similarity))\n",
    "        simTotal += similarity\n",
    "        ratSimTotal += similarity * userRating\n",
    "    if simTotal == 0: return 0\n",
    "    else: return ratSimTotal / simTotal"
   ]
  },
  {
   "cell_type": "code",
   "execution_count": 10,
   "metadata": {},
   "outputs": [],
   "source": [
    "def recommend(dataMat, user, N=3, simMeas=cosSim, estMethod=standEst):\n",
    "    '''\n",
    "    推荐引擎\n",
    "    :param dataMat: 数据矩阵\n",
    "    :param user: 用户\n",
    "    :param N: 推荐物品个数\n",
    "    :param simMeas: 相似度计算方法\n",
    "    :param estMethod: 评分估计方法\n",
    "    :return: 推荐物品列表\n",
    "    '''\n",
    "    unratedItems = np.nonzero(dataMat[user, :].A == 0)[1] # 找到未评分的物品\n",
    "    if len(unratedItems) == 0: return 'you rated everything' # 如果没有未评分的物品\n",
    "    itemScores = [] # 存储物品评分\n",
    "    for item in unratedItems:\n",
    "        estimatedScore = estMethod(dataMat, user, simMeas, item) # 估计评分\n",
    "        itemScores.append((item, estimatedScore)) # 将物品和评分存储在一起\n",
    "    return sorted(itemScores, key=lambda jj: jj[1], reverse=True)[:N] # 返回评分最高的N个物品"
   ]
  },
  {
   "cell_type": "code",
   "execution_count": 13,
   "metadata": {},
   "outputs": [
    {
     "name": "stdout",
     "output_type": "stream",
     "text": [
      "the 3 and 0 similarity is 1.000000\n",
      "the 3 and 1 similarity is 1.000000\n",
      "the 3 and 2 similarity is 0.000000\n",
      "the 4 and 0 similarity is 1.000000\n",
      "the 4 and 1 similarity is 1.000000\n",
      "the 4 and 2 similarity is 0.000000\n",
      "recommend:  [(3, 1.0), (4, 1.0)]\n",
      "the 3 and 0 similarity is 1.000000\n",
      "the 3 and 1 similarity is 1.000000\n",
      "the 3 and 2 similarity is 0.000000\n",
      "the 4 and 0 similarity is 1.000000\n",
      "the 4 and 1 similarity is 1.000000\n",
      "the 4 and 2 similarity is 0.000000\n",
      "recommend:  [(3, 1.0), (4, 1.0)]\n",
      "the 3 and 0 similarity is 0.500000\n",
      "the 3 and 1 similarity is 0.500000\n",
      "the 3 and 2 similarity is 0.000000\n",
      "the 4 and 0 similarity is 0.500000\n",
      "the 4 and 1 similarity is 0.500000\n",
      "the 4 and 2 similarity is 0.000000\n",
      "recommend:  [(3, 1.0), (4, 1.0)]\n"
     ]
    }
   ],
   "source": [
    "myMat = np.mat(loadExData())\n",
    "print(\"recommend: \", recommend(myMat, 2, N=3))\n",
    "print(\"recommend: \", recommend(myMat, 2, N=3, simMeas=pearsSim))\n",
    "print(\"recommend: \", recommend(myMat, 2, N=3, simMeas=ecludSim))"
   ]
  },
  {
   "cell_type": "code",
   "execution_count": 14,
   "metadata": {},
   "outputs": [],
   "source": [
    "def svdEst(dataMat, user, simMeas, item):\n",
    "    '''\n",
    "    基于SVD的推荐引擎\n",
    "    :param dataMat: 数据矩阵\n",
    "    :param user: 用户\n",
    "    :param simMeas: 相似度计算方法\n",
    "    :param item: 物品\n",
    "    :return: 预测评分\n",
    "    '''\n",
    "    n = np.shape(dataMat)[1]\n",
    "    simTotal = 0.0; ratSimTotal = 0.0\n",
    "    U, Sigma, VT = np.linalg.svd(dataMat)\n",
    "    Sig4 = np.mat(np.eye(4) * Sigma[:4])\n",
    "    xformedItems = dataMat.T * U[:, :4] * Sig4.I\n",
    "    for j in range(n):\n",
    "        userRating = dataMat[user, j]\n",
    "        if userRating == 0 or j == item: continue\n",
    "        similarity = cosSim(xformedItems[item, :].T, xformedItems[j, :].T)\n",
    "        print(\"the %d and %d similarity is %f\" % (item, j, similarity))\n",
    "        simTotal += similarity\n",
    "        ratSimTotal += similarity * userRating\n",
    "    if simTotal == 0: return 0\n",
    "    else: return ratSimTotal / simTotal"
   ]
  },
  {
   "cell_type": "code",
   "execution_count": 16,
   "metadata": {},
   "outputs": [
    {
     "name": "stdout",
     "output_type": "stream",
     "text": [
      "[[1 1 1 0 0]\n",
      " [2 2 2 0 0]\n",
      " [1 1 1 0 0]\n",
      " [5 5 5 0 0]\n",
      " [1 1 0 2 2]\n",
      " [0 0 0 3 3]\n",
      " [0 0 0 1 1]]\n",
      "the 3 and 0 similarity is 0.489660\n",
      "the 3 and 1 similarity is 0.489660\n",
      "the 3 and 2 similarity is 0.511671\n",
      "the 4 and 0 similarity is 0.489660\n",
      "the 4 and 1 similarity is 0.489660\n",
      "the 4 and 2 similarity is 0.511671\n",
      "svdEst:  [(3, 1.0), (4, 1.0)]\n"
     ]
    }
   ],
   "source": [
    "print(myMat)\n",
    "print(\"svdEst: \", recommend(myMat, 2, N=3, estMethod=svdEst))"
   ]
  }
 ],
 "metadata": {
  "kernelspec": {
   "display_name": "base",
   "language": "python",
   "name": "python3"
  },
  "language_info": {
   "codemirror_mode": {
    "name": "ipython",
    "version": 3
   },
   "file_extension": ".py",
   "mimetype": "text/x-python",
   "name": "python",
   "nbconvert_exporter": "python",
   "pygments_lexer": "ipython3",
   "version": "3.8.20"
  }
 },
 "nbformat": 4,
 "nbformat_minor": 2
}
