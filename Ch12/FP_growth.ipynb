{
 "cells": [
  {
   "cell_type": "markdown",
   "metadata": {},
   "source": [
    "### 12.1 FP-trees: an efficient way to encode a dataset"
   ]
  },
  {
   "cell_type": "markdown",
   "metadata": {},
   "source": [
    "- 优点：一般要快于Apriori\n",
    "- 缺点：实现比较困难，在某些数据集上性能会下降"
   ]
  },
  {
   "cell_type": "markdown",
   "metadata": {},
   "source": [
    "### 12.2 Build an FP-tree"
   ]
  },
  {
   "cell_type": "markdown",
   "metadata": {},
   "source": [
    "##### 12.2.1 Creating the FP-tree data structure"
   ]
  },
  {
   "cell_type": "code",
   "execution_count": 1,
   "metadata": {},
   "outputs": [],
   "source": [
    "class treeNode:\n",
    "    def __init__(self,nameValue,numOccur,parentNode):\n",
    "        '''\n",
    "        初始化树节点\n",
    "        :param nameValue: 节点名称\n",
    "        :param numOccur: 节点计数\n",
    "        :param parentNode: 父节点\n",
    "        '''\n",
    "        self.name = nameValue\n",
    "        self.count = numOccur\n",
    "        self.parent = parentNode\n",
    "        self.children = {}\n",
    "        self.nodeLink = None\n",
    "        \n",
    "    def inc(self, numOccur):\n",
    "        '''增加节点计数'''\n",
    "        self.count += numOccur\n",
    "        \n",
    "    def disp(self, ind=1):\n",
    "        '''打印树节点'''\n",
    "        print('  ' * ind, self.name, ' ', self.count)\n",
    "        for child in self.children.values():\n",
    "            child.disp(ind + 1)"
   ]
  },
  {
   "cell_type": "code",
   "execution_count": 3,
   "metadata": {},
   "outputs": [
    {
     "name": "stdout",
     "output_type": "stream",
     "text": [
      "   pyramid   9\n",
      "     eye   13\n",
      "   pyramid   9\n",
      "     eye   13\n",
      "     phoenix   3\n"
     ]
    }
   ],
   "source": [
    "rootNode = treeNode('pyramid', 9, None)\n",
    "rootNode.children['eye'] = treeNode('eye', 13, rootNode)\n",
    "rootNode.disp()\n",
    "rootNode.children['phoenix'] = treeNode('phoenix', 3, rootNode)\n",
    "rootNode.disp()"
   ]
  },
  {
   "cell_type": "markdown",
   "metadata": {},
   "source": [
    "##### 12.2.2 Constructing the FP-tree"
   ]
  },
  {
   "cell_type": "code",
   "execution_count": 4,
   "metadata": {},
   "outputs": [],
   "source": [
    "def updateHeader(nodeToTest, targetNode):\n",
    "    '''\n",
    "    更新头指针\n",
    "    :param nodeToTest: 目标节点\n",
    "    :param targetNode: 目标节点的头指针\n",
    "    '''\n",
    "    while nodeToTest.nodeLink is not None:\n",
    "        nodeToTest = nodeToTest.nodeLink\n",
    "    nodeToTest.nodeLink = targetNode"
   ]
  },
  {
   "cell_type": "code",
   "execution_count": 5,
   "metadata": {},
   "outputs": [],
   "source": [
    "def updateTree(items, inTree, headerTable, count):\n",
    "    '''\n",
    "    更新树\n",
    "    :param items: 满足minSup排序后的元素Key的数组\n",
    "    :param inTree: 树节点\n",
    "    :param headerTable: 头指针表\n",
    "    :param count: 计数\n",
    "    '''\n",
    "    if items[0] in inTree.children: # 如果节点已经存在\n",
    "        inTree.children[items[0]].inc(count) # 增加计数\n",
    "    else:\n",
    "        inTree.children[items[0]] = treeNode(items[0], count, inTree) # 创建新节点\n",
    "        if headerTable[items[0]][1] is None: # 如果头指针表中没有该节点\n",
    "            headerTable[items[0]][1] = inTree.children[items[0]] # 更新头指针表\n",
    "        else:\n",
    "            updateHeader(headerTable[items[0]][1], inTree.children[items[0]]) # 更新头指针表\n",
    "    if len(items) > 1: # 如果还有更多的元素\n",
    "        updateTree(items[1:], inTree.children[items[0]], headerTable, count) # 递归更新树"
   ]
  },
  {
   "cell_type": "code",
   "execution_count": 6,
   "metadata": {},
   "outputs": [],
   "source": [
    "def createTree(dataSet, minSup=1):\n",
    "    '''\n",
    "    创建FP树\n",
    "    :param dataSet: 数据集\n",
    "    :param minSup: 最小支持度\n",
    "    :return: FP树和频繁项集头指针表\n",
    "    '''\n",
    "    headerTable = {}\n",
    "    for trans in dataSet: # 遍历数据集\n",
    "        for item in trans: # 遍历每个事务\n",
    "            headerTable[item] = headerTable.get(item, 0) + dataSet[trans] # 统计每个项的出现次数\n",
    "            \n",
    "    for k in list(headerTable.keys()): # 删除不满足最小支持度的项\n",
    "        if headerTable[k] < minSup:\n",
    "            del(headerTable[k])\n",
    "            \n",
    "    freqItemSet = set(headerTable.keys()) # 频繁项集\n",
    "    if len(freqItemSet) == 0: # 如果没有频繁项集，返回None\n",
    "        return None, None\n",
    "    for k in headerTable: # 对频繁项集进行排序\n",
    "        headerTable[k] = [headerTable[k], None]\n",
    "    # 创建FP树\n",
    "    retTree = treeNode('Null Set', 1, None)\n",
    "    for tranSet, count in dataSet.items():\n",
    "        localD = {}\n",
    "        for item in tranSet:\n",
    "            if item in freqItemSet:\n",
    "                localD[item] = headerTable[item][0]\n",
    "                \n",
    "        if len(localD) > 0:\n",
    "            orderedItems = [v[0] for v in sorted(localD.items(), key=lambda p: p[1], reverse=True)] # 对频繁项集进行排序\n",
    "            updateTree(orderedItems, retTree, headerTable, count)\n",
    "    return retTree, headerTable # 返回FP树和频繁项集头指针表"
   ]
  },
  {
   "cell_type": "code",
   "execution_count": 7,
   "metadata": {},
   "outputs": [],
   "source": [
    "def loadSimpDat():\n",
    "    '''加载简单数据集'''\n",
    "    simpDat = [['r', 'z', 'h', 'j', 'p'],\n",
    "               ['z', 'y', 'x', 'w', 'v', 'u', 't', 's'],\n",
    "               ['z'],\n",
    "               ['r', 'x', 'n', 'o', 's'],\n",
    "               ['y', 'r', 'x', 'z', 'q', 't'],\n",
    "               ['y', 'r', 'x', 'z', 'h'],\n",
    "               ['r']]\n",
    "    return simpDat\n",
    "\n",
    "def createInitSet(dataSet):\n",
    "    '''创建初始数据集'''\n",
    "    initSet = {}\n",
    "    for trans in dataSet:\n",
    "        initSet[frozenset(trans)] = 1\n",
    "    return initSet"
   ]
  },
  {
   "cell_type": "code",
   "execution_count": 10,
   "metadata": {},
   "outputs": [
    {
     "name": "stdout",
     "output_type": "stream",
     "text": [
      "{frozenset({'z', 'j', 'p', 'r', 'h'}): 1, frozenset({'z', 'x', 's', 'u', 'y', 'w', 'v', 't'}): 1, frozenset({'z'}): 1, frozenset({'x', 's', 'o', 'r', 'n'}): 1, frozenset({'z', 'x', 'q', 'y', 'r', 't'}): 1, frozenset({'z', 'x', 'y', 'r', 'h'}): 1, frozenset({'r'}): 1}\n",
      "   Null Set   1\n",
      "     z   5\n",
      "       r   3\n",
      "         x   2\n",
      "           y   2\n",
      "       x   1\n",
      "         y   1\n",
      "     r   2\n",
      "       x   1\n"
     ]
    }
   ],
   "source": [
    "simpDat = loadSimpDat() # 加载简单数据集\n",
    "initSet = createInitSet(simpDat) # 创建初始数据集\n",
    "print(initSet) # 打印初始数据集\n",
    "myFPTree, myHeaderTab = createTree(initSet, 3) # 创建FP树\n",
    "myFPTree.disp() # 打印FP树"
   ]
  },
  {
   "cell_type": "markdown",
   "metadata": {},
   "source": [
    "### 12.3 Mining frequent items from an FP-tree"
   ]
  },
  {
   "cell_type": "markdown",
   "metadata": {},
   "source": [
    "##### 12.3.1 Extracting conditional pattern bases"
   ]
  },
  {
   "cell_type": "code",
   "execution_count": 11,
   "metadata": {},
   "outputs": [],
   "source": [
    "def ascendTree(leafNode, prefixPath):\n",
    "    '''\n",
    "    向上遍历树\n",
    "    :param leafNode: 叶子节点\n",
    "    :param prefixPath: 前缀路径\n",
    "    '''\n",
    "    if leafNode.parent is not None:\n",
    "        prefixPath.append(leafNode.name) # 添加节点名称到前缀路径\n",
    "        ascendTree(leafNode.parent, prefixPath) # 递归向上遍历树\n",
    "        \n",
    "def findPrefixPath(basePat, treeNode):\n",
    "    '''\n",
    "    查找前缀路径\n",
    "    :param basePat: 基础路径\n",
    "    :param treeNode: 树节点\n",
    "    :return: 前缀路径字典\n",
    "    '''\n",
    "    condPats = {}\n",
    "    while treeNode is not None:\n",
    "        prefixPath = []\n",
    "        ascendTree(treeNode, prefixPath) # 向上遍历树\n",
    "        if len(prefixPath) > 1: # 如果前缀路径长度大于1\n",
    "            condPats[frozenset(prefixPath[1:])] = treeNode.count # 添加到前缀路径字典\n",
    "        treeNode = treeNode.nodeLink # 更新树节点\n",
    "    return condPats"
   ]
  },
  {
   "cell_type": "code",
   "execution_count": 13,
   "metadata": {},
   "outputs": [
    {
     "name": "stdout",
     "output_type": "stream",
     "text": [
      "{frozenset({'z'}): 1, frozenset({'r'}): 1, frozenset({'z', 'r'}): 2}\n"
     ]
    }
   ],
   "source": [
    "print(findPrefixPath('x', myHeaderTab['x'][1])) # 查找前缀路径"
   ]
  },
  {
   "cell_type": "markdown",
   "metadata": {},
   "source": [
    "##### 12.3.2 Creating conditional FP-trees"
   ]
  },
  {
   "cell_type": "code",
   "execution_count": 14,
   "metadata": {},
   "outputs": [],
   "source": [
    "def mineTree(inTree, headerTable, minSup, preFix, freqItemList):\n",
    "    '''\n",
    "    挖掘FP树\n",
    "    :param inTree: FP树\n",
    "    :param headerTable: 头指针表\n",
    "    :param minSup: 最小支持度\n",
    "    :param preFix: 前缀路径\n",
    "    :param freqItemList: 频繁项集列表\n",
    "    '''\n",
    "    bigL = [v[0] for v in sorted(headerTable.items(), key=lambda p: p[1][0])] # 对头指针表进行排序\n",
    "    for basePat in bigL: # 遍历头指针表\n",
    "        newFreqSet = preFix.copy() # 复制前缀路径\n",
    "        newFreqSet.add(basePat) # 添加基础路径到前缀路径\n",
    "        freqItemList.append(newFreqSet) # 添加到频繁项集列表\n",
    "        condPattBases = findPrefixPath(basePat, headerTable[basePat][1]) # 查找前缀路径\n",
    "        myCondTree, myHead = createTree(condPattBases, minSup) # 创建条件FP树\n",
    "        if myHead is not None:\n",
    "            mineTree(myCondTree, myHead, minSup, newFreqSet, freqItemList) # 递归挖掘FP树"
   ]
  },
  {
   "cell_type": "code",
   "execution_count": 15,
   "metadata": {},
   "outputs": [
    {
     "name": "stdout",
     "output_type": "stream",
     "text": [
      "[{'y'}, {'z', 'y'}, {'y', 'x'}, {'z', 'y', 'x'}, {'x'}, {'z', 'x'}, {'r', 'x'}, {'z'}, {'r'}, {'z', 'r'}]\n"
     ]
    }
   ],
   "source": [
    "freqItems = [] # 频繁项集列表\n",
    "mineTree(myFPTree, myHeaderTab, 3, set([]), freqItems) # 挖掘FP树\n",
    "print(freqItems) # 打印频繁项集列表"
   ]
  },
  {
   "cell_type": "markdown",
   "metadata": {},
   "source": [
    "### 12.5 Example: mining a clickstream from a news site"
   ]
  },
  {
   "cell_type": "code",
   "execution_count": 16,
   "metadata": {},
   "outputs": [
    {
     "name": "stdout",
     "output_type": "stream",
     "text": [
      "[{'1'}, {'1', '6'}, {'3'}, {'11', '3'}, {'11', '3', '6'}, {'3', '6'}, {'11'}, {'11', '6'}, {'6'}]\n"
     ]
    }
   ],
   "source": [
    "parsedDat = [line.split() for line in open('kosarak.dat').readlines()] # 读取数据集\n",
    "\n",
    "initSet = createInitSet(parsedDat) # 创建初始数据集\n",
    "\n",
    "myFPtree, myHeaderTab = createTree(initSet, 100000) # 创建FP树\n",
    "\n",
    "myFreqItems = [] # 频繁项集列表\n",
    "mineTree(myFPtree, myHeaderTab, 100000, set([]), myFreqItems) # 挖掘FP树\n",
    "print(myFreqItems) # 打印频繁项集列表"
   ]
  }
 ],
 "metadata": {
  "kernelspec": {
   "display_name": "base",
   "language": "python",
   "name": "python3"
  },
  "language_info": {
   "codemirror_mode": {
    "name": "ipython",
    "version": 3
   },
   "file_extension": ".py",
   "mimetype": "text/x-python",
   "name": "python",
   "nbconvert_exporter": "python",
   "pygments_lexer": "ipython3",
   "version": "3.8.20"
  }
 },
 "nbformat": 4,
 "nbformat_minor": 2
}
