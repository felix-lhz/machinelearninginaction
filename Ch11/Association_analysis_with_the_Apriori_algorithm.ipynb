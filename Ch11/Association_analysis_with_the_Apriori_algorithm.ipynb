{
 "cells": [
  {
   "cell_type": "markdown",
   "metadata": {},
   "source": [
    "### 11.3 Finding frequent itemsets with the Apriori algorithm"
   ]
  },
  {
   "cell_type": "code",
   "execution_count": 23,
   "metadata": {},
   "outputs": [],
   "source": [
    "def loadDataSet():\n",
    "    '''\n",
    "    生成一个简单的数据集\n",
    "    :return: 数据集\n",
    "    '''\n",
    "    return [[1, 3, 4], [2, 3, 5], [1, 2, 3, 5], [2, 5]]"
   ]
  },
  {
   "cell_type": "code",
   "execution_count": 22,
   "metadata": {},
   "outputs": [],
   "source": [
    "def createC1(dataSet):\n",
    "    '''\n",
    "    创建初始的单项集\n",
    "    :param dataSet: 数据集\n",
    "    :return: 单项集\n",
    "    '''\n",
    "    C1 = []\n",
    "    for transaction in dataSet:\n",
    "        for item in transaction:\n",
    "            if [item] not in C1:\n",
    "                C1.append([item])\n",
    "    C1.sort()\n",
    "    return map(frozenset, C1)  # frozenset是不可变集合"
   ]
  },
  {
   "cell_type": "code",
   "execution_count": 56,
   "metadata": {},
   "outputs": [],
   "source": [
    "def scanD(D, Ck, minSupport):\n",
    "    \"\"\"scanD（计算候选数据集 CK 在数据集 D 中的支持度，并返回支持度大于最小支持度 minSupport 的数据）\n",
    "\n",
    "    Args:\n",
    "        D 数据集\n",
    "        Ck 候选项集列表\n",
    "        minSupport 最小支持度\n",
    "    Returns:\n",
    "        retList 支持度大于 minSupport 的集合\n",
    "        supportData 候选项集支持度数据\n",
    "    \"\"\"\n",
    "    D = list(D)\n",
    "    Ck = list(Ck)\n",
    "    # print(\"D:\", D)\n",
    "    # print(\"Ck:\", Ck)\n",
    "    # ssCnt 临时存放选数据集 Ck 的频率. 例如: a->10, b->5, c->8    \n",
    "    ssCnt = {}\n",
    "    for tid in D:\n",
    "        for can in Ck:\n",
    "            # s.issubset(t)  测试是否 s 中的每一个元素都在 t 中\n",
    "            if can.issubset(tid):\n",
    "                if can not in ssCnt:\n",
    "                    ssCnt[can] = 1\n",
    "                else:\n",
    "                    ssCnt[can] += 1\n",
    "    numItems = float(len(D)) # 数据集 D 的数量\n",
    "    retList = []\n",
    "    supportData = {}\n",
    "    for key in ssCnt:\n",
    "        # 支持度 = 候选项（key）出现的次数 / 所有数据集的数量\n",
    "        support = ssCnt[key]/numItems\n",
    "        if support >= minSupport:\n",
    "            # 在 retList 的首位插入元素，只存储支持度满足频繁项集的值\n",
    "            retList.insert(0, key)\n",
    "        # 存储所有的候选项（key）和对应的支持度（support）\n",
    "        supportData[key] = support\n",
    "    return retList, supportData"
   ]
  },
  {
   "cell_type": "code",
   "execution_count": 50,
   "metadata": {},
   "outputs": [
    {
     "name": "stdout",
     "output_type": "stream",
     "text": [
      "dataSet: [[1, 3, 4], [2, 3, 5], [1, 2, 3, 5], [2, 5]]\n"
     ]
    }
   ],
   "source": [
    "dataSet = loadDataSet() # 加载数据集\n",
    "print(\"dataSet:\", dataSet)"
   ]
  },
  {
   "cell_type": "code",
   "execution_count": 62,
   "metadata": {},
   "outputs": [],
   "source": [
    "C1 = createC1(dataSet) # 创建初始单项集 \n",
    "D =map(set, dataSet) # 将数据集转换为集合\n",
    "L1, supportData0 = scanD(D, C1, 0.5) # 计算频繁项集和支持度"
   ]
  },
  {
   "cell_type": "code",
   "execution_count": 63,
   "metadata": {},
   "outputs": [],
   "source": [
    "def aprioriGen(Lk, k):\n",
    "    '''\n",
    "    生成候选项集\n",
    "    :param Lk: 频繁项集\n",
    "    :param k: 项集的大小\n",
    "    :return: 候选项集\n",
    "    '''\n",
    "    retList = [] # 存储候选项集\n",
    "    lenLk = len(Lk) # 频繁项集的长度\n",
    "    for i in range(lenLk): # 遍历频繁项集\n",
    "        for j in range(i + 1, lenLk): # 遍历频繁项集\n",
    "            L1 = list(Lk[i])[:k - 1] # 前 k-1 个元素\n",
    "            L2 = list(Lk[j])[:k - 1] # 前 k-1 个元素\n",
    "            L1.sort()\n",
    "            L2.sort()\n",
    "            if L1 == L2:\n",
    "                retList.append(Lk[i] | Lk[j]) # 集合的并集\n",
    "    return retList"
   ]
  },
  {
   "cell_type": "code",
   "execution_count": 64,
   "metadata": {},
   "outputs": [],
   "source": [
    "def apriori(dataSet, minSupport=0.5):\n",
    "    '''\n",
    "    apriori 算法\n",
    "    :param dataSet: 数据集\n",
    "    :param minSupport: 最小支持度\n",
    "    :return: 频繁项集和支持度\n",
    "    '''\n",
    "    C1 = createC1(dataSet) # 创建初始单项集\n",
    "    D = list(map(set, dataSet)) # 将数据集转换为集合\n",
    "    L1, supportData = scanD(D, C1, minSupport) # 计算频繁项集和支持度\n",
    "    L = [L1] # 存储频繁项集\n",
    "    k = 2 # 项集的大小\n",
    "    while (len(L[k - 2]) > 0): # 当频繁项集不为空时\n",
    "        Ck = aprioriGen(L[k - 2], k) # 生成候选项集\n",
    "        Lk, supK = scanD(D, Ck, minSupport) # 计算频繁项集和支持度\n",
    "        supportData.update(supK) # 更新支持度数据\n",
    "        L.append(Lk) # 存储频繁项集\n",
    "        k += 1 # 项集的大小加 1\n",
    "    return L, supportData"
   ]
  },
  {
   "cell_type": "code",
   "execution_count": 66,
   "metadata": {},
   "outputs": [],
   "source": [
    "L, supportData = apriori(dataSet, minSupport=0.5) # 计算频繁项集和支持度\n",
    "# print(\"L:\", L) # 打印频繁项集"
   ]
  },
  {
   "cell_type": "code",
   "execution_count": 67,
   "metadata": {},
   "outputs": [],
   "source": [
    "def calcConf(freqSet, H, supportData, minConf=0.7):\n",
    "    '''\n",
    "    计算置信度\n",
    "    :param freqSet: 频繁项集\n",
    "    :param H: 候选项集\n",
    "    :param supportData: 支持度数据\n",
    "    :param minConf: 最小置信度\n",
    "    :return: 置信度大于最小置信度的规则\n",
    "    '''\n",
    "    prunedH = [] # 存储置信度大于最小置信度的规则\n",
    "    for conseq in H: # 遍历候选项集\n",
    "        conf = supportData[freqSet] / supportData[freqSet - conseq] # 计算置信度\n",
    "        if conf >= minConf: # 如果置信度大于最小置信度\n",
    "            print(freqSet - conseq, '-->', conseq, 'conf:', conf) # 打印规则和置信度\n",
    "            prunedH.append(conseq) # 存储置信度大于最小置信度的规则\n",
    "    return prunedH"
   ]
  },
  {
   "cell_type": "code",
   "execution_count": 69,
   "metadata": {},
   "outputs": [],
   "source": [
    "def rulesFromConseq(freqSet, H, supportData, minConf=0.7):\n",
    "    '''\n",
    "    递归计算频繁项集的规则\n",
    "    :param freqSet: 频繁项集\n",
    "    :param H: 候选项集\n",
    "    :param supportData: 支持度数据\n",
    "    :param minConf: 最小置信度\n",
    "    :return: 置信度大于最小置信度的规则\n",
    "    '''\n",
    "    m = len(H[0]) # 候选项集的大小\n",
    "    if len(freqSet) > (m + 1): # 如果频繁项集的大小大于候选项集的大小加 1\n",
    "        Hmp1 = aprioriGen(H, m + 1) # 生成候选项集\n",
    "        Hmp1 = calcConf(freqSet, Hmp1, supportData, minConf) # 计算置信度\n",
    "        if len(Hmp1) > 1: # 如果候选项集不为空\n",
    "            rulesFromConseq(freqSet, Hmp1, supportData, minConf) # 递归调用函数"
   ]
  },
  {
   "cell_type": "code",
   "execution_count": 70,
   "metadata": {},
   "outputs": [],
   "source": [
    "def generateRules(L, supportData, minConf=0.7):\n",
    "    '''\n",
    "    生成关联规则\n",
    "    :param L: 频繁项集\n",
    "    :param supportData: 支持度数据\n",
    "    :param minConf: 最小置信度\n",
    "    :return: 置信度大于最小置信度的规则\n",
    "    '''\n",
    "    bigRuleList = [] # 存储置信度大于最小置信度的规则\n",
    "    for i in range(1, len(L)): # 遍历频繁项集\n",
    "        for freqSet in L[i]: # 遍历频繁项集\n",
    "            H1 = [frozenset([item]) for item in freqSet] # 创建候选项集\n",
    "            if (i > 1): # 如果频繁项集的大小大于 1\n",
    "                rulesFromConseq(freqSet, H1, supportData, minConf) # 生成规则\n",
    "            else: # 如果频繁项集的大小等于 1\n",
    "                calcConf(freqSet, H1, supportData, minConf) # 计算置信度\n",
    "                \n",
    "    return bigRuleList # 返回置信度大于最小置信度的规则"
   ]
  },
  {
   "cell_type": "code",
   "execution_count": null,
   "metadata": {},
   "outputs": [],
   "source": []
  }
 ],
 "metadata": {
  "kernelspec": {
   "display_name": "base",
   "language": "python",
   "name": "python3"
  },
  "language_info": {
   "codemirror_mode": {
    "name": "ipython",
    "version": 3
   },
   "file_extension": ".py",
   "mimetype": "text/x-python",
   "name": "python",
   "nbconvert_exporter": "python",
   "pygments_lexer": "ipython3",
   "version": "3.8.20"
  }
 },
 "nbformat": 4,
 "nbformat_minor": 2
}
