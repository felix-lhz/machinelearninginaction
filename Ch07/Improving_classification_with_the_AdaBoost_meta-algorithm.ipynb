{
 "cells": [
  {
   "cell_type": "markdown",
   "metadata": {},
   "source": [
    "# 7.3 Creating a weak learner with a decision stump"
   ]
  },
  {
   "cell_type": "code",
   "execution_count": 18,
   "metadata": {},
   "outputs": [],
   "source": [
    "import numpy as np\n",
    "\n",
    "def loadSimpData():\n",
    "    \"\"\"\n",
    "    生成一个简单的数据集\n",
    "    :return: dataMat: 数据矩阵\n",
    "             classLabels: 类别标签\n",
    "    \"\"\"\n",
    "    dataMat = np.matrix([[1.0, 2.1],\n",
    "                         [2.0, 1.1],\n",
    "                         [1.3, 1.0],\n",
    "                         [1.0, 1.0],\n",
    "                         [2.0, 1.0]])\n",
    "    classLabels = [1.0, 1.0, -1.0, -1.0, 1.0]\n",
    "    return dataMat, classLabels"
   ]
  },
  {
   "cell_type": "code",
   "execution_count": 19,
   "metadata": {},
   "outputs": [],
   "source": [
    "def stumpClassify(dataMatrix, dimen, threshVal, threshIneq):\n",
    "    \"\"\"\n",
    "    单层决策树分类函数\n",
    "    :param dataMatrix: 数据矩阵\n",
    "    :param dimen: 特征维度\n",
    "    :param threshVal: 阈值\n",
    "    :param threshIneq: 不等式标志\n",
    "    :return: retArray: 分类结果\n",
    "    \"\"\"\n",
    "    retArray = np.ones((np.shape(dataMatrix)[0], 1))  # 初始化为1\n",
    "    if threshIneq == 'lt':  # 小于阈值\n",
    "        retArray[dataMatrix[:, dimen] <= threshVal] = -1.0\n",
    "    else:  # 大于阈值\n",
    "        retArray[dataMatrix[:, dimen] > threshVal] = -1.0\n",
    "    return retArray"
   ]
  },
  {
   "cell_type": "code",
   "execution_count": 20,
   "metadata": {},
   "outputs": [],
   "source": [
    "def buildStump(dataArr, classLabels, D):\n",
    "    \"\"\"\n",
    "    构建单层决策树\n",
    "    :param dataArr: 数据集\n",
    "    :param classLabels: 类别标签\n",
    "    :param D: 权重向量\n",
    "    :return: bestStump: 最佳单层决策树\n",
    "             minError: 最小错误率\n",
    "             bestClassEst: 最佳分类结果\n",
    "    \"\"\"\n",
    "    dataMatrix = np.mat(dataArr)  # 转换为矩阵\n",
    "    labelMat = np.mat(classLabels).T  # 转置为列向量\n",
    "    m, n = np.shape(dataMatrix)  # 获取数据集的行数和列数\n",
    "    numSteps = 10.0  # 步长\n",
    "    bestStump = {}  # 存储最佳单层决策树\n",
    "    bestClassEst = np.mat(np.zeros((m, 1)))  # 初始化最佳分类结果\n",
    "    minError = float('inf')  # 初始化最小错误率为无穷大\n",
    "\n",
    "    for i in range(n):  # 遍历每个特征维度\n",
    "        rangeMin = dataMatrix[:, i].min()  # 特征最小值\n",
    "        rangeMax = dataMatrix[:, i].max()  # 特征最大值\n",
    "        stepSize = (rangeMax - rangeMin) / numSteps  # 步长\n",
    "\n",
    "        for j in range(-1, int(numSteps) + 1):  # 遍历每个阈值\n",
    "            for inequal in ['lt', 'gt']:  # 遍历不等式标志\n",
    "                threshVal = (rangeMin + float(j) * stepSize)  # 阈值计算\n",
    "                predictedVals = stumpClassify(dataMatrix, i, threshVal, inequal)  # 分类结果\n",
    "\n",
    "                errArr = np.mat(np.ones((m, 1)))  # 初始化错误矩阵为1\n",
    "                errArr[predictedVals == labelMat] = 0  # 正确分类的标记为0\n",
    "                weightedError = D.T * errArr  # 加权错误率\n",
    "\n",
    "                if weightedError < minError:  # 如果当前错误率小于最小错误率，则更新最佳单层决策树和最小错误率\n",
    "                    minError = weightedError\n",
    "                    bestClassEst = predictedVals.copy()  # 更新最佳分类结果\n",
    "                    bestStump['dim'] = i\n",
    "                    bestStump['thresh'] = threshVal\n",
    "                    bestStump['ineq'] = inequal\n",
    "    return bestStump, minError, bestClassEst  # 返回最佳单层决策树、最小错误率和最佳分类结果"
   ]
  },
  {
   "cell_type": "code",
   "execution_count": 21,
   "metadata": {},
   "outputs": [
    {
     "name": "stdout",
     "output_type": "stream",
     "text": [
      "Best Stump: {'dim': 0, 'thresh': 1.3, 'ineq': 'lt'}\n",
      "Minimum Error: [[0.2]]\n",
      "Best Class Estimation: [[-1.]\n",
      " [ 1.]\n",
      " [-1.]\n",
      " [-1.]\n",
      " [ 1.]]\n"
     ]
    }
   ],
   "source": [
    "D = np.mat(np.ones((5, 1)) / 5)  # 初始化权重向量\n",
    "dataArr, classLabels = loadSimpData()  # 加载数据集\n",
    "bestStump, minError, bestClassEst = buildStump(dataArr, classLabels, D)  # 构建单层决策树\n",
    "print(\"Best Stump:\", bestStump)  # 打印最佳单层决策树\n",
    "print(\"Minimum Error:\", minError)  # 打印最小错误率\n",
    "print(\"Best Class Estimation:\", bestClassEst)  # 打印最佳分类结果"
   ]
  },
  {
   "cell_type": "markdown",
   "metadata": {},
   "source": [
    "# 7.4 Implementing the full AdaBoost algorithm"
   ]
  },
  {
   "cell_type": "code",
   "execution_count": 22,
   "metadata": {},
   "outputs": [],
   "source": [
    "def adaBoostTrainDS(dataArr, classLabels, numIt=40):\n",
    "    \"\"\"\n",
    "    AdaBoost算法训练函数\n",
    "    :param dataArr: 数据集\n",
    "    :param classLabels: 类别标签\n",
    "    :param numIt: 迭代次数\n",
    "    :return: weakClassArr: 弱分类器数组\n",
    "                aggClassEst: 加权分类结果\n",
    "    \"\"\"\n",
    "    weakClassArr = []  # 初始化弱分类器数组\n",
    "    m = np.shape(dataArr)[0]  # 获取数据集的行数\n",
    "    D = np.mat(np.ones((m, 1)) / m)  # 初始化权重向量\n",
    "    aggClassEst = np.mat(np.zeros((m, 1)))  # 初始化加权分类结果\n",
    "\n",
    "    for i in range(numIt):  # 迭代训练弱分类器\n",
    "        bestStump, error, classEst = buildStump(dataArr, classLabels, D)  # 构建单层决策树\n",
    "        # print(\"D:\", D.T)  # 打印当前权重向量\n",
    "        \n",
    "        alpha = float(0.5 * np.log((1.0 - error) / max(error, 1e-16)))  # 计算分类器权重\n",
    "\n",
    "        bestStump['alpha'] = alpha  # 将权重添加到单层决策树中\n",
    "        weakClassArr.append(bestStump)  # 添加到弱分类器数组中\n",
    "        # print(\"Class Estimation:\", classEst.T)  # 打印分类结果\n",
    "\n",
    "        expon = np.multiply(-1 * alpha * np.mat(classLabels).T, classEst)  # 更新权重向量\n",
    "        D = np.multiply(D, np.exp(expon))  # 更新权重向量\n",
    "        D /= D.sum()  # 权重归一化\n",
    "\n",
    "        aggClassEst += alpha * classEst  # 更新加权分类结果\n",
    "        # print(\"Agg Class Estimation:\", aggClassEst.T)  # 打印加权分类结果\n",
    "        \n",
    "        aggErrors = np.multiply(np.sign(aggClassEst) != np.mat(classLabels).T, np.ones((m, 1)))  # 计算错误率\n",
    "        errorRate = aggErrors.sum() / m  # 计算错误率\n",
    "        print(\"Total Error Rate:\", errorRate)\n",
    "        if errorRate == 0.0:\n",
    "            print(\"Perfect classification achieved!\")\n",
    "            break   \n",
    "\n",
    "    return weakClassArr,aggClassEst # 返回弱分类器数组,加权分类结果"
   ]
  },
  {
   "cell_type": "code",
   "execution_count": 23,
   "metadata": {},
   "outputs": [
    {
     "name": "stdout",
     "output_type": "stream",
     "text": [
      "Total Error Rate: 0.2\n",
      "Total Error Rate: 0.2\n",
      "Total Error Rate: 0.0\n",
      "Perfect classification achieved!\n",
      "Weak Classifiers: [{'dim': 0, 'thresh': 1.3, 'ineq': 'lt', 'alpha': 0.6931471805599453}, {'dim': 1, 'thresh': 1.0, 'ineq': 'lt', 'alpha': 0.9729550745276565}, {'dim': 0, 'thresh': 0.9, 'ineq': 'lt', 'alpha': 0.8958797346140273}]\n"
     ]
    }
   ],
   "source": [
    "classifyArr,_ = adaBoostTrainDS(dataArr, classLabels, 9)  # 训练AdaBoost分类器\n",
    "print(\"Weak Classifiers:\", classifyArr)  # 打印弱分类器数组"
   ]
  },
  {
   "cell_type": "markdown",
   "metadata": {},
   "source": [
    "# 7.5 Test: classifying with AdaBoost"
   ]
  },
  {
   "cell_type": "code",
   "execution_count": 24,
   "metadata": {},
   "outputs": [],
   "source": [
    "def adaClassify(dataToClass, classifierArr):\n",
    "    \"\"\"\n",
    "    AdaBoost分类函数\n",
    "    :param dataToClass: 待分类数据\n",
    "    :param classifierArr: 弱分类器数组\n",
    "    :return: 分类结果\n",
    "    \"\"\"\n",
    "    dataMatrix = np.mat(dataToClass)  # 转换为矩阵\n",
    "    m = np.shape(dataMatrix)[0]  # 获取数据集的行数\n",
    "    aggClassEst = np.mat(np.zeros((m, 1)))  # 初始化加权分类结果\n",
    "\n",
    "    for i in range(len(classifierArr)):  # 遍历每个弱分类器\n",
    "        classEst = stumpClassify(dataMatrix, classifierArr[i]['dim'], classifierArr[i]['thresh'], classifierArr[i]['ineq'])  # 分类结果\n",
    "        aggClassEst += classifierArr[i]['alpha'] * classEst  # 更新加权分类结果\n",
    "        print(\"aggClassEst:\", aggClassEst.T)  # 打印加权分类结果\n",
    "    return np.sign(aggClassEst)  # 返回最终分类结果"
   ]
  },
  {
   "cell_type": "code",
   "execution_count": 25,
   "metadata": {},
   "outputs": [
    {
     "name": "stdout",
     "output_type": "stream",
     "text": [
      "aggClassEst: [[-0.69314718]]\n",
      "aggClassEst: [[-1.66610226]]\n",
      "aggClassEst: [[-2.56198199]]\n",
      "Classify Result: [[-1.]]\n"
     ]
    }
   ],
   "source": [
    "print(\"Classify Result:\", adaClassify([0, 0], classifyArr))  # 打印分类结果"
   ]
  },
  {
   "cell_type": "markdown",
   "metadata": {},
   "source": [
    "# 7.6 Example: AdaBoost on a difficult dataset"
   ]
  },
  {
   "cell_type": "code",
   "execution_count": 26,
   "metadata": {},
   "outputs": [],
   "source": [
    "def loadDataSet(fileName):\n",
    "    \"\"\"\n",
    "    加载数据集\n",
    "    :param fileName: 文件名\n",
    "    :return: dataMat: 数据矩阵\n",
    "             labelMat: 类别标签\n",
    "    \"\"\"\n",
    "    dataMat = []  # 初始化数据矩阵\n",
    "    labelMat = []  # 初始化类别标签\n",
    "    numFeat = len(open(fileName).readline().split('\\t'))  # 获取特征数量\n",
    "    with open(fileName) as fr:  # 打开文件\n",
    "        for line in fr.readlines():  # 遍历每一行\n",
    "            lineArr = []\n",
    "            curLine = line.strip().split('\\t')  # 去除空格和换行符，并按制表符分割\n",
    "            for i in range(numFeat - 1):  # 遍历特征\n",
    "                lineArr.append(float(curLine[i]))  # 添加特征值\n",
    "            dataMat.append(lineArr)  # 添加到数据矩阵\n",
    "            labelMat.append(float(curLine[-1]))  # 添加到类别标签\n",
    "    return dataMat, labelMat  # 返回数据矩阵和类别标签"
   ]
  },
  {
   "cell_type": "code",
   "execution_count": 28,
   "metadata": {},
   "outputs": [
    {
     "name": "stdout",
     "output_type": "stream",
     "text": [
      "Total Error Rate: 0.2842809364548495\n",
      "Total Error Rate: 0.2842809364548495\n",
      "Total Error Rate: 0.24749163879598662\n",
      "Total Error Rate: 0.24749163879598662\n",
      "Total Error Rate: 0.25418060200668896\n",
      "Total Error Rate: 0.2408026755852843\n",
      "Total Error Rate: 0.2408026755852843\n",
      "Total Error Rate: 0.22073578595317725\n",
      "Total Error Rate: 0.24749163879598662\n",
      "Total Error Rate: 0.23076923076923078\n",
      "aggClassEst: [[ 0.46166238  0.46166238 -0.46166238 -0.46166238  0.46166238  0.46166238\n",
      "   0.46166238  0.46166238  0.46166238  0.46166238  0.46166238 -0.46166238\n",
      "  -0.46166238  0.46166238  0.46166238  0.46166238  0.46166238 -0.46166238\n",
      "  -0.46166238 -0.46166238 -0.46166238  0.46166238 -0.46166238 -0.46166238\n",
      "   0.46166238  0.46166238  0.46166238  0.46166238  0.46166238  0.46166238\n",
      "   0.46166238  0.46166238 -0.46166238  0.46166238  0.46166238  0.46166238\n",
      "   0.46166238  0.46166238  0.46166238  0.46166238  0.46166238  0.46166238\n",
      "   0.46166238  0.46166238  0.46166238  0.46166238 -0.46166238  0.46166238\n",
      "  -0.46166238  0.46166238  0.46166238  0.46166238  0.46166238  0.46166238\n",
      "   0.46166238  0.46166238  0.46166238 -0.46166238  0.46166238 -0.46166238\n",
      "   0.46166238  0.46166238 -0.46166238  0.46166238  0.46166238  0.46166238\n",
      "   0.46166238]]\n",
      "aggClassEst: [[ 0.77414483  0.77414483 -0.14917993 -0.14917993  0.77414483  0.77414483\n",
      "   0.14917993  0.77414483  0.77414483  0.14917993  0.14917993 -0.14917993\n",
      "  -0.14917993  0.77414483  0.77414483  0.77414483  0.77414483 -0.14917993\n",
      "  -0.14917993 -0.77414483 -0.14917993  0.77414483 -0.14917993 -0.77414483\n",
      "   0.77414483  0.77414483  0.77414483  0.77414483  0.77414483  0.77414483\n",
      "   0.77414483  0.14917993 -0.14917993  0.77414483  0.77414483  0.77414483\n",
      "   0.77414483  0.77414483  0.77414483  0.77414483  0.77414483  0.77414483\n",
      "   0.77414483  0.14917993  0.14917993  0.77414483 -0.14917993  0.77414483\n",
      "  -0.14917993  0.14917993  0.14917993  0.77414483  0.77414483  0.77414483\n",
      "   0.77414483  0.77414483  0.14917993 -0.14917993  0.77414483 -0.77414483\n",
      "   0.77414483  0.14917993 -0.14917993  0.77414483  0.77414483  0.77414483\n",
      "   0.77414483]]\n",
      "aggClassEst: [[ 1.06095456  1.06095456  0.1376298  -0.43598966  1.06095456  0.4873351\n",
      "  -0.1376298   1.06095456  1.06095456 -0.1376298  -0.1376298  -0.43598966\n",
      "  -0.43598966  0.4873351   0.4873351   0.4873351   1.06095456 -0.43598966\n",
      "  -0.43598966 -1.06095456 -0.43598966  1.06095456 -0.43598966 -1.06095456\n",
      "   1.06095456  1.06095456  1.06095456  0.4873351   1.06095456  0.4873351\n",
      "   1.06095456 -0.1376298  -0.43598966  0.4873351   0.4873351   1.06095456\n",
      "   1.06095456  1.06095456  1.06095456  0.4873351   1.06095456  1.06095456\n",
      "   1.06095456 -0.1376298  -0.1376298   0.4873351  -0.43598966  1.06095456\n",
      "   0.1376298  -0.1376298  -0.1376298   0.4873351   1.06095456  1.06095456\n",
      "   1.06095456  1.06095456  0.43598966  0.1376298   0.4873351  -1.06095456\n",
      "   1.06095456 -0.1376298  -0.43598966  1.06095456  0.4873351   1.06095456\n",
      "   0.4873351 ]]\n",
      "aggClassEst: [[ 0.82798452  0.82798452  0.37059985 -0.66895971  0.82798452  0.72030514\n",
      "  -0.37059985  0.82798452  0.82798452 -0.37059985 -0.37059985 -0.20301961\n",
      "  -0.66895971  0.25436505  0.25436505  0.25436505  0.82798452 -0.66895971\n",
      "  -0.66895971 -0.82798452 -0.66895971  0.82798452 -0.66895971 -1.29392461\n",
      "   1.29392461  0.82798452  1.29392461  0.25436505  0.82798452  0.25436505\n",
      "   0.82798452 -0.37059985 -0.66895971  0.25436505  0.25436505  0.82798452\n",
      "   0.82798452  0.82798452  0.82798452  0.72030514  0.82798452  0.82798452\n",
      "   0.82798452 -0.37059985 -0.37059985  0.25436505 -0.66895971  0.82798452\n",
      "   0.37059985  0.09534024 -0.37059985  0.72030514  1.29392461  0.82798452\n",
      "   0.82798452  0.82798452  0.66895971 -0.09534024  0.72030514 -1.29392461\n",
      "   0.82798452 -0.37059985 -0.66895971  0.82798452  0.72030514  0.82798452\n",
      "   0.25436505]]\n",
      "aggClassEst: [[ 1.02602298  1.02602298  0.56863831 -0.47092125  0.62994605  0.91834361\n",
      "  -0.17256139  0.62994605  1.02602298 -0.17256139 -0.17256139 -0.00498115\n",
      "  -0.47092125  0.05632659  0.45240351  0.45240351  1.02602298 -0.47092125\n",
      "  -0.47092125 -0.62994605 -0.47092125  1.02602298 -0.47092125 -1.09588615\n",
      "   1.49196307  1.02602298  1.49196307  0.45240351  1.02602298  0.45240351\n",
      "   1.02602298 -0.17256139 -0.47092125  0.05632659  0.05632659  1.02602298\n",
      "   1.02602298  1.02602298  1.02602298  0.91834361  1.02602298  1.02602298\n",
      "   1.02602298 -0.17256139 -0.56863831  0.45240351 -0.47092125  1.02602298\n",
      "   0.56863831  0.2933787  -0.17256139  0.91834361  1.49196307  1.02602298\n",
      "   0.62994605  1.02602298  0.86699817  0.10269822  0.91834361 -1.09588615\n",
      "   1.02602298 -0.17256139 -0.47092125  1.02602298  0.91834361  1.02602298\n",
      "   0.45240351]]\n",
      "aggClassEst: [[ 1.21450185  1.21450185  0.75711718 -0.65940012  0.44146718  0.72986473\n",
      "  -0.36104026  0.81842493  0.8375441  -0.36104026 -0.36104026  0.18349772\n",
      "  -0.65940012  0.24480546  0.64088239  0.64088239  0.8375441  -0.28244237\n",
      "  -0.65940012 -0.44146718 -0.65940012  0.8375441  -0.65940012 -1.28436502\n",
      "   1.68044194  1.21450185  1.68044194  0.64088239  1.21450185  0.64088239\n",
      "   1.21450185 -0.36104026 -0.28244237  0.24480546 -0.13215228  0.8375441\n",
      "   1.21450185  1.21450185  1.21450185  0.72986473  0.8375441   1.21450185\n",
      "   1.21450185 -0.36104026 -0.38015944  0.26392464 -0.65940012  0.8375441\n",
      "   0.38015944  0.10489983 -0.36104026  1.10682248  1.68044194  1.21450185\n",
      "   0.81842493  0.8375441   0.6785193  -0.08578066  1.10682248 -0.90740727\n",
      "   0.8375441  -0.36104026 -0.28244237  1.21450185  1.10682248  0.8375441\n",
      "   0.26392464]]\n",
      "aggClassEst: [[ 1.36677554  1.06222816  0.60484349 -0.81167381  0.28919349  0.88213842\n",
      "  -0.20876657  0.97069862  0.98981779 -0.51331395 -0.20876657  0.03122403\n",
      "  -0.50712643  0.39707915  0.79315608  0.79315608  0.68527041 -0.43471606\n",
      "  -0.81167381 -0.59374087 -0.50712643  0.98981779 -0.50712643 -1.43663871\n",
      "   1.52816825  1.06222816  1.83271563  0.4886087   1.06222816  0.4886087\n",
      "   1.36677554 -0.20876657 -0.43471606  0.09253177 -0.28442597  0.68527041\n",
      "   1.06222816  1.06222816  1.06222816  0.88213842  0.98981779  1.36677554\n",
      "   1.06222816 -0.51331395 -0.53243313  0.11165095 -0.50712643  0.68527041\n",
      "   0.22788575 -0.04737386 -0.51331395  0.95454879  1.52816825  1.06222816\n",
      "   0.66615124  0.98981779  0.52624561 -0.23805435  1.25909617 -1.05968096\n",
      "   0.98981779 -0.51331395 -0.43471606  1.06222816  0.95454879  0.68527041\n",
      "   0.11165095]]\n",
      "aggClassEst: [[ 1.21166683  1.21733687  0.44973479 -0.96678252  0.13408478  1.03724713\n",
      "  -0.36387528  0.81558991  0.83470909 -0.66842266 -0.36387528 -0.12388468\n",
      "  -0.66223514  0.24197045  0.63804737  0.94826478  0.84037912 -0.58982477\n",
      "  -0.96678252 -0.74884958 -0.66223514  0.83470909 -0.66223514 -1.59174742\n",
      "   1.68327696  0.90711945  1.67760692  0.33349999  1.21733687  0.6437174\n",
      "   1.52188425 -0.36387528 -0.58982477 -0.06257693 -0.43953468  0.84037912\n",
      "   1.21733687  1.21733687  0.90711945  0.72702971  0.83470909  1.21166683\n",
      "   0.90711945 -0.66842266 -0.68754184 -0.04345776 -0.66223514  0.84037912\n",
      "   0.38299446 -0.20248257 -0.66842266  0.79944008  1.37305954  1.21733687\n",
      "   0.82125995  1.1449265   0.68135431 -0.39316305  1.10398746 -1.21478967\n",
      "   1.1449265  -0.66842266 -0.58982477  1.21733687  0.79944008  0.53016171\n",
      "   0.26675966]]\n",
      "aggClassEst: [[ 1.07630486  1.0819749   0.31437281 -0.83142054  0.26944676  1.1726091\n",
      "  -0.22851331  0.95095188  0.97007106 -0.53306069 -0.22851331 -0.25924665\n",
      "  -0.52687316  0.37733242  0.77340934  1.08362676  0.9757411  -0.4544628\n",
      "  -0.83142054 -0.88421155 -0.52687316  0.97007106 -0.52687316 -1.45638544\n",
      "   1.81863893  1.04248143  1.8129689   0.46886196  1.35269884  0.50835543\n",
      "   1.65724622 -0.22851331 -0.4544628  -0.19793891 -0.30417271  0.9757411\n",
      "   1.35269884  1.35269884  1.04248143  0.86239169  0.97007106  1.34702881\n",
      "   1.04248143 -0.53306069 -0.55217986  0.09190421 -0.52687316  0.9757411\n",
      "   0.51835643 -0.06712059 -0.53306069  0.93480205  1.50842152  1.35269884\n",
      "   0.68589797  1.28028848  0.81671629 -0.25780108  1.23934943 -1.0794277\n",
      "   1.28028848 -0.53306069 -0.4544628   1.35269884  0.93480205  0.66552368\n",
      "   0.40212163]]\n",
      "aggClassEst: [[ 0.95108899  1.20719077  0.18915694 -0.95663642  0.14423088  1.29782498\n",
      "  -0.10329743  0.82573601  1.09528693 -0.65827656 -0.35372918 -0.38446252\n",
      "  -0.40165729  0.50254829  0.64819347  1.20884263  0.85052522 -0.57967867\n",
      "  -0.70620467 -0.75899568 -0.65208904  1.09528693 -0.40165729 -1.33116957\n",
      "   1.69342306  1.1676973   1.68775303  0.34364609  1.22748297  0.38313956\n",
      "   1.53203035 -0.35372918 -0.57967867 -0.32315478 -0.17895684  0.85052522\n",
      "   1.22748297  1.22748297  0.91726555  0.98760756  0.84485519  1.47224468\n",
      "   0.91726555 -0.65827656 -0.67739574  0.21712009 -0.40165729  0.85052522\n",
      "   0.39314056  0.05809528 -0.40784481  0.80958618  1.63363739  1.22748297\n",
      "   0.81111385  1.1550726   0.69150041 -0.38301695  1.11413356 -1.20464357\n",
      "   1.1550726  -0.40784481 -0.32924692  1.47791472  0.80958618  0.54030781\n",
      "   0.5273375 ]]\n",
      "Error Count: 0.23880597014925373\n"
     ]
    }
   ],
   "source": [
    "dataArr, labelArr = loadDataSet('horseColicTraining2.txt')  # 加载数据集\n",
    "classifierArr,_ = adaBoostTrainDS(dataArr, labelArr, 10)  # 训练AdaBoost分类器\n",
    "testArr, testLabelArr = loadDataSet('horseColicTest2.txt')  # 加载测试数据集\n",
    "prediction10 = adaClassify(testArr, classifierArr)  # 进行分类\n",
    "errArr = np.mat(np.ones((67, 1)))  # 初始化错误矩阵\n",
    "print(\"Error Count:\", errArr[prediction10 != np.mat(testLabelArr).T].sum() / 67.0)  # 打印错误数量"
   ]
  },
  {
   "cell_type": "markdown",
   "metadata": {},
   "source": [
    "# 7.7 Classification imbalance"
   ]
  },
  {
   "cell_type": "markdown",
   "metadata": {},
   "source": [
    "### 7.7.1 ROC"
   ]
  },
  {
   "cell_type": "code",
   "execution_count": 29,
   "metadata": {},
   "outputs": [],
   "source": [
    "import matplotlib.pyplot as plt\n",
    "\n",
    "def plotROC(predStrengths, classLabels):\n",
    "    cur = (1.0, 1.0)  # 初始化曲线坐标\n",
    "    ySum = 0.0  # 初始化y坐标和\n",
    "    numPosClas = sum(np.array(classLabels) == 1.0)  # 正类数量\n",
    "    yStep = 1.0 / numPosClas  # y坐标步长\n",
    "    xStep = 1.0 / (len(classLabels) - numPosClas)  # x坐标步长\n",
    "    sortedIndicies = predStrengths.argsort()  # 排序索引\n",
    "    fig = plt.figure()  # 创建图形\n",
    "    ax = fig.add_subplot(111)  # 添加子图\n",
    "    for index in sortedIndicies.tolist()[0]:  # 遍历排序索引\n",
    "        if classLabels[index] == 1.0:  # 正类\n",
    "            delX = 0  # x坐标增量\n",
    "            delY = yStep  # y坐标增量\n",
    "        else:  # 负类\n",
    "            delX = xStep  # x坐标增量\n",
    "            delY = 0  # y坐标增量\n",
    "            ySum += cur[1]  # 更新y坐标和\n",
    "        ax.plot([cur[0], cur[0] - delX], [cur[1], cur[1] - delY], c='b')  # 绘制曲线\n",
    "        cur = (cur[0] - delX, cur[1] - delY)  # 更新曲线坐标\n",
    "    ax.plot([0, 1], [0, 1], 'b--')  # 绘制对角线\n",
    "    plt.xlabel('False Positive Rate')  # x轴标签\n",
    "    plt.ylabel('True Positive Rate')  # y轴标签\n",
    "    plt.title('ROC Curve')  # 图形标题\n",
    "    ax.axis([0, 1, 0, 1])  # 设置坐标轴范围\n",
    "    plt.show()  # 显示图形\n",
    "    print(\"the Area under the curve is:\", ySum * xStep)  # 打印曲线下面积\n",
    "    "
   ]
  },
  {
   "cell_type": "code",
   "execution_count": 31,
   "metadata": {},
   "outputs": [
    {
     "name": "stdout",
     "output_type": "stream",
     "text": [
      "Total Error Rate: 0.2842809364548495\n",
      "Total Error Rate: 0.2842809364548495\n",
      "Total Error Rate: 0.24749163879598662\n",
      "Total Error Rate: 0.24749163879598662\n",
      "Total Error Rate: 0.25418060200668896\n",
      "Total Error Rate: 0.2408026755852843\n",
      "Total Error Rate: 0.2408026755852843\n",
      "Total Error Rate: 0.22073578595317725\n",
      "Total Error Rate: 0.24749163879598662\n",
      "Total Error Rate: 0.23076923076923078\n",
      "Total Error Rate: 0.2408026755852843\n",
      "Total Error Rate: 0.2140468227424749\n",
      "Total Error Rate: 0.22742474916387959\n",
      "Total Error Rate: 0.21739130434782608\n",
      "Total Error Rate: 0.22073578595317725\n",
      "Total Error Rate: 0.21739130434782608\n",
      "Total Error Rate: 0.22408026755852842\n",
      "Total Error Rate: 0.22408026755852842\n",
      "Total Error Rate: 0.23076923076923078\n",
      "Total Error Rate: 0.22408026755852842\n",
      "Total Error Rate: 0.2140468227424749\n",
      "Total Error Rate: 0.20735785953177258\n",
      "Total Error Rate: 0.22408026755852842\n",
      "Total Error Rate: 0.22408026755852842\n",
      "Total Error Rate: 0.2140468227424749\n",
      "Total Error Rate: 0.22073578595317725\n",
      "Total Error Rate: 0.2040133779264214\n",
      "Total Error Rate: 0.20735785953177258\n",
      "Total Error Rate: 0.21070234113712374\n",
      "Total Error Rate: 0.21739130434782608\n",
      "Total Error Rate: 0.21070234113712374\n",
      "Total Error Rate: 0.21739130434782608\n",
      "Total Error Rate: 0.20735785953177258\n",
      "Total Error Rate: 0.21070234113712374\n",
      "Total Error Rate: 0.20735785953177258\n",
      "Total Error Rate: 0.20735785953177258\n",
      "Total Error Rate: 0.19732441471571907\n",
      "Total Error Rate: 0.19063545150501673\n",
      "Total Error Rate: 0.20066889632107024\n",
      "Total Error Rate: 0.19732441471571907\n"
     ]
    },
    {
     "data": {
      "image/png": "[encoded data removed]",
      "text/plain": [
       "<Figure size 640x480 with 1 Axes>"
      ]
     },
     "metadata": {},
     "output_type": "display_data"
    },
    {
     "name": "stdout",
     "output_type": "stream",
     "text": [
      "the Area under the curve is: 0.8918191104095092\n"
     ]
    }
   ],
   "source": [
    "dataArr, labelArr = loadDataSet('horseColicTraining2.txt')  # 加载数据集\n",
    "classifierArr,aggClassEst = adaBoostTrainDS(dataArr, labelArr, 40)  # 训练AdaBoost分类器\n",
    "plotROC(aggClassEst.T, labelArr)  # 绘制ROC曲线"
   ]
  }
 ],
 "metadata": {
  "kernelspec": {
   "display_name": "base",
   "language": "python",
   "name": "python3"
  },
  "language_info": {
   "codemirror_mode": {
    "name": "ipython",
    "version": 3
   },
   "file_extension": ".py",
   "mimetype": "text/x-python",
   "name": "python",
   "nbconvert_exporter": "python",
   "pygments_lexer": "ipython3",
   "version": "3.8.20"
  }
 },
 "nbformat": 4,
 "nbformat_minor": 2
}
