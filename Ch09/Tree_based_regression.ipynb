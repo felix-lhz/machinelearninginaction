{
 "cells": [
  {
   "cell_type": "markdown",
   "metadata": {},
   "source": [
    "# Tree based regression"
   ]
  },
  {
   "cell_type": "markdown",
   "metadata": {},
   "source": [
    "### 9.2 Building trees with continuous and discrete features"
   ]
  },
  {
   "cell_type": "code",
   "execution_count": 2,
   "metadata": {},
   "outputs": [],
   "source": [
    "import numpy as np "
   ]
  },
  {
   "cell_type": "code",
   "execution_count": 3,
   "metadata": {},
   "outputs": [],
   "source": [
    "def loadDataSet(fileName):\n",
    "    '''\n",
    "    数据集加载函数\n",
    "    :param fileName: 数据集文件名\n",
    "    :return: 数据集\n",
    "    '''\n",
    "    dataMat = []\n",
    "    with open(fileName) as fr:\n",
    "        for line in fr.readlines():\n",
    "            curLine = line.strip().split('\\t')\n",
    "            fltLine = [float(x) for x in curLine] # 将字符串转换为浮点数\n",
    "            dataMat.append(fltLine)\n",
    "    return np.mat(dataMat)"
   ]
  },
  {
   "cell_type": "code",
   "execution_count": 4,
   "metadata": {},
   "outputs": [],
   "source": [
    "def binSplitDataSet(dataSet, feature, value):\n",
    "    '''\n",
    "    二分数据集\n",
    "    :param dataSet: 数据集\n",
    "    :param feature: 特征\n",
    "    :param value: 特征值\n",
    "    :return: 左子集和右子集\n",
    "    '''\n",
    "    mat0 = dataSet[np.nonzero(dataSet[:, feature] > value)[0], :]\n",
    "    mat1 = dataSet[np.nonzero(dataSet[:, feature] <= value)[0], :]\n",
    "    return mat0, mat1"
   ]
  },
  {
   "cell_type": "code",
   "execution_count": 5,
   "metadata": {},
   "outputs": [
    {
     "name": "stdout",
     "output_type": "stream",
     "text": [
      "[[1. 0. 0. 0.]\n",
      " [0. 1. 0. 0.]\n",
      " [0. 0. 1. 0.]\n",
      " [0. 0. 0. 1.]] \n",
      " [[0. 1. 0. 0.]] \n",
      " [[1. 0. 0. 0.]\n",
      " [0. 0. 1. 0.]\n",
      " [0. 0. 0. 1.]]\n"
     ]
    }
   ],
   "source": [
    "testMat = np.mat(np.eye(4))\n",
    "mat0, mat1 = binSplitDataSet(testMat, 1, 0.5)\n",
    "print(testMat, \"\\n\", mat0, \"\\n\", mat1)"
   ]
  },
  {
   "cell_type": "markdown",
   "metadata": {},
   "source": [
    "### 9.3 Using CART for regression"
   ]
  },
  {
   "cell_type": "markdown",
   "metadata": {},
   "source": [
    "##### 9.3.1 Building the tree"
   ]
  },
  {
   "cell_type": "code",
   "execution_count": 6,
   "metadata": {},
   "outputs": [],
   "source": [
    "def regLeaf(dataSet):\n",
    "    '''\n",
    "    计算叶子节点的值，即聚类中心点来代表这一类数据\n",
    "    :param dataSet: 数据集\n",
    "    :return: 叶子节点的值\n",
    "    '''\n",
    "    return np.mean(dataSet[:, -1]) # 返回最后一列的均值\n",
    "\n",
    "def regErr(dataSet):\n",
    "    '''\n",
    "    计算数据集的误差\n",
    "    :param dataSet: 数据集\n",
    "    :return: 数据集的误差\n",
    "    '''\n",
    "    return np.var(dataSet[:, -1]) * np.shape(dataSet)[0] # 返回最后一列的方差乘以数据集的大小"
   ]
  },
  {
   "cell_type": "code",
   "execution_count": 7,
   "metadata": {},
   "outputs": [],
   "source": [
    "def chooseBestSplit(dataSet, leafType=regLeaf, errType=regErr, ops=(1, 4)):\n",
    "    '''\n",
    "    选择最佳划分\n",
    "    :param dataSet: 数据集\n",
    "    :param leafType: 叶子节点类型\n",
    "    :param errType: 误差类型\n",
    "    :param ops: 停止条件\n",
    "    :return: 最佳划分特征和特征值\n",
    "    '''\n",
    "    tolS = ops[0] # 容许的误差下降值\n",
    "    tolN = ops[1] # 节点的最少样本数\n",
    "    if len(set(dataSet[:, -1].T.tolist()[0])) == 1: # 如果最后一列的值只有一个，返回None\n",
    "        return None, leafType(dataSet)\n",
    "    m, n = np.shape(dataSet)\n",
    "    S = errType(dataSet) # 当前误差\n",
    "    bestS = np.inf # 初始化最佳误差为无穷大\n",
    "    bestIndex = 0 # 初始化最佳划分特征为0\n",
    "    bestValue = 0 # 初始化最佳划分特征值为0\n",
    "    for featIndex in range(n - 1):\n",
    "        for splitVal in set(dataSet[:, featIndex].T.tolist()[0]): # 遍历所有特征和特征值\n",
    "            mat0, mat1 = binSplitDataSet(dataSet, featIndex, splitVal) # 二分数据集\n",
    "            if (np.shape(mat0)[0] < tolN) or (np.shape(mat1)[0] < tolN): # 如果子集的大小小于最小样本数，跳过\n",
    "                continue\n",
    "            newS = errType(mat0) + errType(mat1) # 计算新的误差\n",
    "            if newS < bestS: # 如果新的误差小于最佳误差\n",
    "                bestIndex = featIndex # 更新最佳划分特征\n",
    "                bestValue = splitVal # 更新最佳划分特征值\n",
    "                bestS = newS # 更新最佳误差\n",
    "    if (S - bestS) < tolS: # 如果误差下降小于容许的误差下降值，返回None\n",
    "        return None, leafType(dataSet)\n",
    "    mat0, mat1 = binSplitDataSet(dataSet, bestIndex, bestValue) # 二分数据集\n",
    "    if (np.shape(mat0)[0] < tolN) or (np.shape(mat1)[0] < tolN): # 如果子集的大小小于最小样本数，返回None\n",
    "        return None, leafType(dataSet)\n",
    "    return bestIndex, bestValue # 返回最佳划分特征和特征值"
   ]
  },
  {
   "cell_type": "code",
   "execution_count": 8,
   "metadata": {},
   "outputs": [],
   "source": [
    "def createTree(dataSet, leafType=regLeaf, errType=regErr, ops=(1, 4)):\n",
    "    \"\"\"\n",
    "    创建回归树\n",
    "    :param dataSet: 数据集\n",
    "    :param leafType: 生成叶子节点的函数\n",
    "    :param errType: 误差计算函数\n",
    "    :param ops: 用户定义的参数\n",
    "    :return: 树\n",
    "    \"\"\"\n",
    "    feat, val = chooseBestSplit(dataSet, leafType, errType, ops)  # 选择最佳划分\n",
    "    if feat is None:  # 如果没有最佳划分，返回叶子节点\n",
    "        return val\n",
    "    retTree = {} # 创建树的字典\n",
    "    retTree['spInd'] = feat # 特征索引\n",
    "    retTree['spVal'] = val # 特征值\n",
    "    lSet, rSet = binSplitDataSet(dataSet, feat, val) # 二分数据集\n",
    "    retTree['left'] = createTree(lSet, leafType, errType, ops) # 递归创建左子树\n",
    "    retTree['right'] = createTree(rSet, leafType, errType, ops) # 递归创建右子树\n",
    "    return retTree"
   ]
  },
  {
   "cell_type": "code",
   "execution_count": 9,
   "metadata": {},
   "outputs": [
    {
     "name": "stdout",
     "output_type": "stream",
     "text": [
      "{'spInd': 0, 'spVal': 0.48813, 'left': {'spInd': 0, 'spVal': 0.620599, 'left': {'spInd': 0, 'spVal': 0.625336, 'left': {'spInd': 0, 'spVal': 0.625791, 'left': {'spInd': 0, 'spVal': 0.643601, 'left': {'spInd': 0, 'spVal': 0.651376, 'left': {'spInd': 0, 'spVal': 0.6632, 'left': {'spInd': 0, 'spVal': 0.683921, 'left': {'spInd': 0, 'spVal': 0.819823, 'left': {'spInd': 0, 'spVal': 0.837522, 'left': {'spInd': 0, 'spVal': 0.846455, 'left': {'spInd': 0, 'spVal': 0.919384, 'left': {'spInd': 0, 'spVal': 0.976414, 'left': {'spInd': 0, 'spVal': 0.985425, 'left': {'spInd': 0, 'spVal': 0.989888, 'left': {'spInd': 0, 'spVal': 0.993349, 'left': 1.035533, 'right': 1.077553}, 'right': {'spInd': 0, 'spVal': 0.988852, 'left': 0.744207, 'right': 1.069062}}, 'right': 1.227946}, 'right': {'spInd': 0, 'spVal': 0.953112, 'left': {'spInd': 0, 'spVal': 0.975022, 'left': 0.862911, 'right': 0.673579}, 'right': {'spInd': 0, 'spVal': 0.948268, 'left': {'spInd': 0, 'spVal': 0.951949, 'left': 1.06469, 'right': {'spInd': 0, 'spVal': 0.950153, 'left': 0.945255, 'right': 1.022906}}, 'right': {'spInd': 0, 'spVal': 0.936783, 'left': 0.631862, 'right': {'spInd': 0, 'spVal': 0.928097, 'left': {'spInd': 0, 'spVal': 0.930173, 'left': 1.026258, 'right': 1.035645}, 'right': 0.883225}}}}}, 'right': {'spInd': 0, 'spVal': 0.877241, 'left': {'spInd': 0, 'spVal': 0.897094, 'left': {'spInd': 0, 'spVal': 0.902532, 'left': {'spInd': 0, 'spVal': 0.919074, 'left': 1.029889, 'right': 1.123413}, 'right': {'spInd': 0, 'spVal': 0.901056, 'left': 0.861601, 'right': {'spInd': 0, 'spVal': 0.900272, 'left': 1.0559, 'right': 0.996871}}}, 'right': {'spInd': 0, 'spVal': 0.89593, 'left': 1.240209, 'right': {'spInd': 0, 'spVal': 0.884512, 'left': 1.077275, 'right': 1.117833}}}, 'right': {'spInd': 0, 'spVal': 0.848921, 'left': {'spInd': 0, 'spVal': 0.860049, 'left': {'spInd': 0, 'spVal': 0.869077, 'left': 0.797005, 'right': 1.114825}, 'right': 0.71749}, 'right': 1.170959}}}, 'right': {'spInd': 0, 'spVal': 0.845815, 'left': 0.72003, 'right': 0.952617}}, 'right': {'spInd': 0, 'spVal': 0.821648, 'left': {'spInd': 0, 'spVal': 0.834078, 'left': 1.229373, 'right': {'spInd': 0, 'spVal': 0.824442, 'left': 1.01058, 'right': {'spInd': 0, 'spVal': 0.822443, 'left': 1.082153, 'right': 1.086648}}}, 'right': {'spInd': 0, 'spVal': 0.820802, 'left': 1.280895, 'right': 1.325907}}}, 'right': {'spInd': 0, 'spVal': 0.785541, 'left': {'spInd': 0, 'spVal': 0.79024, 'left': {'spInd': 0, 'spVal': 0.813719, 'left': {'spInd': 0, 'spVal': 0.814825, 'left': 0.835264, 'right': 1.095206}, 'right': {'spInd': 0, 'spVal': 0.804586, 'left': 0.706601, 'right': {'spInd': 0, 'spVal': 0.795072, 'left': 0.924033, 'right': 0.965721}}}, 'right': {'spInd': 0, 'spVal': 0.789625, 'left': 0.533214, 'right': 0.552614}}, 'right': {'spInd': 0, 'spVal': 0.712503, 'left': {'spInd': 0, 'spVal': 0.72312, 'left': {'spInd': 0, 'spVal': 0.768784, 'left': {'spInd': 0, 'spVal': 0.773422, 'left': {'spInd': 0, 'spVal': 0.782167, 'left': 1.165296, 'right': {'spInd': 0, 'spVal': 0.774301, 'left': {'spInd': 0, 'spVal': 0.78193, 'left': 0.886049, 'right': 1.074488}, 'right': 0.836763}}, 'right': {'spInd': 0, 'spVal': 0.772083, 'left': {'spInd': 0, 'spVal': 0.773168, 'left': 1.125943, 'right': 1.140917}, 'right': 1.299018}}, 'right': {'spInd': 0, 'spVal': 0.742527, 'left': {'spInd': 0, 'spVal': 0.750918, 'left': {'spInd': 0, 'spVal': 0.761474, 'left': {'spInd': 0, 'spVal': 0.768596, 'left': 0.899705, 'right': 0.760219}, 'right': 1.058262}, 'right': {'spInd': 0, 'spVal': 0.750078, 'left': 0.748104, 'right': 0.906291}}, 'right': {'spInd': 0, 'spVal': 0.729234, 'left': {'spInd': 0, 'spVal': 0.737189, 'left': 1.087056, 'right': 1.200781}, 'right': {'spInd': 0, 'spVal': 0.727098, 'left': 0.931956, 'right': {'spInd': 0, 'spVal': 0.726828, 'left': 1.000567, 'right': 1.017112}}}}}, 'right': 1.307248}, 'right': {'spInd': 0, 'spVal': 0.703755, 'left': {'spInd': 0, 'spVal': 0.712386, 'left': 0.93349, 'right': 0.564858}, 'right': {'spInd': 0, 'spVal': 0.696648, 'left': {'spInd': 0, 'spVal': 0.697718, 'left': {'spInd': 0, 'spVal': 0.697777, 'left': 1.101678, 'right': 0.827805}, 'right': 1.212434}, 'right': {'spInd': 0, 'spVal': 0.691115, 'left': 0.845423, 'right': 0.834391}}}}}}, 'right': {'spInd': 0, 'spVal': 0.683886, 'left': 1.414382, 'right': {'spInd': 0, 'spVal': 0.678287, 'left': {'spInd': 0, 'spVal': 0.67939, 'left': 0.999985, 'right': 1.307217}, 'right': {'spInd': 0, 'spVal': 0.66387, 'left': {'spInd': 0, 'spVal': 0.673195, 'left': 0.907727, 'right': 0.915077}, 'right': 1.187129}}}}, 'right': {'spInd': 0, 'spVal': 0.656218, 'left': {'spInd': 0, 'spVal': 0.661923, 'left': 0.701634, 'right': 0.76704}, 'right': {'spInd': 0, 'spVal': 0.652121, 'left': 0.958506, 'right': 1.004346}}}, 'right': {'spInd': 0, 'spVal': 0.645762, 'left': {'spInd': 0, 'spVal': 0.648675, 'left': 1.315384, 'right': 1.287407}, 'right': {'spInd': 0, 'spVal': 0.643665, 'left': 1.026886, 'right': 1.024241}}}, 'right': {'spInd': 0, 'spVal': 0.626011, 'left': 0.782552, 'right': 0.840544}}, 'right': 1.244731}, 'right': {'spInd': 0, 'spVal': 0.622398, 'left': 0.623696, 'right': 0.76633}}, 'right': {'spInd': 0, 'spVal': 0.61127, 'left': {'spInd': 0, 'spVal': 0.613765, 'left': 1.334421, 'right': 1.621091}, 'right': {'spInd': 0, 'spVal': 0.517921, 'left': {'spInd': 0, 'spVal': 0.541314, 'left': {'spInd': 0, 'spVal': 0.559763, 'left': {'spInd': 0, 'spVal': 0.590062, 'left': {'spInd': 0, 'spVal': 0.595012, 'left': {'spInd': 0, 'spVal': 0.597409, 'left': {'spInd': 0, 'spVal': 0.604529, 'left': 0.982036, 'right': 1.212685}, 'right': 0.97477}, 'right': {'spInd': 0, 'spVal': 0.59021, 'left': 1.213435, 'right': 1.336661}}, 'right': {'spInd': 0, 'spVal': 0.589575, 'left': 0.705531, 'right': {'spInd': 0, 'spVal': 0.575805, 'left': {'spInd': 0, 'spVal': 0.576946, 'left': {'spInd': 0, 'spVal': 0.578252, 'left': 1.185812, 'right': 0.921885}, 'right': 1.234129}, 'right': {'spInd': 0, 'spVal': 0.574573, 'left': 0.89909, 'right': {'spInd': 0, 'spVal': 0.561362, 'left': {'spInd': 0, 'spVal': 0.567704, 'left': 1.06613, 'right': 0.969058}, 'right': 1.070529}}}}}, 'right': {'spInd': 0, 'spVal': 0.552381, 'left': {'spInd': 0, 'spVal': 0.55299, 'left': {'spInd': 0, 'spVal': 0.55352, 'left': 1.253151, 'right': 1.391273}, 'right': 1.036158}, 'right': 1.36963}}, 'right': {'spInd': 0, 'spVal': 0.520207, 'left': {'spInd': 0, 'spVal': 0.536689, 'left': {'spInd': 0, 'spVal': 0.539558, 'left': 0.893748, 'right': 1.053846}, 'right': {'spInd': 0, 'spVal': 0.529491, 'left': {'spInd': 0, 'spVal': 0.530897, 'left': 0.867284, 'right': 0.893462}, 'right': {'spInd': 0, 'spVal': 0.527505, 'left': 1.022206, 'right': 0.87956}}}, 'right': {'spInd': 0, 'spVal': 0.520044, 'left': 1.209557, 'right': {'spInd': 0, 'spVal': 0.518735, 'left': 0.961983, 'right': 1.037179}}}}, 'right': {'spInd': 0, 'spVal': 0.514563, 'left': 1.493586, 'right': {'spInd': 0, 'spVal': 0.50794, 'left': 1.156648, 'right': 1.107265}}}}}, 'right': {'spInd': 0, 'spVal': 0.343479, 'left': {'spInd': 0, 'spVal': 0.406649, 'left': {'spInd': 0, 'spVal': 0.41023, 'left': {'spInd': 0, 'spVal': 0.458121, 'left': {'spInd': 0, 'spVal': 0.475976, 'left': -0.097791, 'right': {'spInd': 0, 'spVal': 0.465625, 'left': -0.163707, 'right': -0.15294}}, 'right': {'spInd': 0, 'spVal': 0.429664, 'left': {'spInd': 0, 'spVal': 0.44928, 'left': -0.061456, 'right': {'spInd': 0, 'spVal': 0.448656, 'left': 0.069098, 'right': {'spInd': 0, 'spVal': 0.438367, 'left': 0.026974, 'right': 0.034014}}}, 'right': -0.188659}}, 'right': 0.331722}, 'right': {'spInd': 0, 'spVal': 0.355688, 'left': {'spInd': 0, 'spVal': 0.362314, 'left': {'spInd': 0, 'spVal': 0.377597, 'left': {'spInd': 0, 'spVal': 0.401152, 'left': -0.366317, 'right': {'spInd': 0, 'spVal': 0.378595, 'left': -0.12164, 'right': -0.296094}}, 'right': {'spInd': 0, 'spVal': 0.377201, 'left': 0.088505, 'right': -0.24355}}, 'right': {'spInd': 0, 'spVal': 0.360323, 'left': -0.556464, 'right': -0.20483}}, 'right': {'spInd': 0, 'spVal': 0.343554, 'left': {'spInd': 0, 'spVal': 0.347837, 'left': {'spInd': 0, 'spVal': 0.348013, 'left': -0.119399, 'right': 0.048939}, 'right': {'spInd': 0, 'spVal': 0.344102, 'left': {'spInd': 0, 'spVal': 0.346986, 'left': -0.153405, 'right': -0.150389}, 'right': -0.061539}}, 'right': -0.3717}}}, 'right': {'spInd': 0, 'spVal': 0.325412, 'left': {'spInd': 0, 'spVal': 0.3371, 'left': {'spInd': 0, 'spVal': 0.339563, 'left': 0.175264, 'right': 0.206783}, 'right': {'spInd': 0, 'spVal': 0.332982, 'left': 0.026332, 'right': 0.210084}}, 'right': {'spInd': 0, 'spVal': 0.048014, 'left': {'spInd': 0, 'spVal': 0.081931, 'left': {'spInd': 0, 'spVal': 0.188218, 'left': {'spInd': 0, 'spVal': 0.23807, 'left': {'spInd': 0, 'spVal': 0.242204, 'left': {'spInd': 0, 'spVal': 0.323181, 'left': -0.219245, 'right': {'spInd': 0, 'spVal': 0.314924, 'left': 0.180811, 'right': {'spInd': 0, 'spVal': 0.27394, 'left': {'spInd': 0, 'spVal': 0.278661, 'left': {'spInd': 0, 'spVal': 0.280738, 'left': {'spInd': 0, 'spVal': 0.302001, 'left': {'spInd': 0, 'spVal': 0.306964, 'left': -0.001952, 'right': {'spInd': 0, 'spVal': 0.30554, 'left': -0.177321, 'right': {'spInd': 0, 'spVal': 0.302217, 'left': -0.115991, 'right': -0.14865}}}, 'right': {'spInd': 0, 'spVal': 0.295511, 'left': 0.317135, 'right': 0.002882}}, 'right': -0.22888}, 'right': 0.253628}, 'right': {'spInd': 0, 'spVal': 0.268857, 'left': {'spInd': 0, 'spVal': 0.273147, 'left': -0.085713, 'right': {'spInd': 0, 'spVal': 0.269681, 'left': -0.455219, 'right': -0.165971}}, 'right': {'spInd': 0, 'spVal': 0.252649, 'left': 0.073447, 'right': {'spInd': 0, 'spVal': 0.250744, 'left': -0.055613, 'right': {'spInd': 0, 'spVal': 0.243909, 'left': 0.046297, 'right': -0.029467}}}}}}}, 'right': 0.209359}, 'right': {'spInd': 0, 'spVal': 0.210334, 'left': {'spInd': 0, 'spVal': 0.233115, 'left': -0.358459, 'right': -0.348147}, 'right': {'spInd': 0, 'spVal': 0.193641, 'left': {'spInd': 0, 'spVal': 0.203693, 'left': -0.006899, 'right': {'spInd': 0, 'spVal': 0.196005, 'left': {'spInd': 0, 'spVal': 0.202054, 'left': -0.064036, 'right': -0.087744}, 'right': -0.048847}}, 'right': -0.327589}}}, 'right': {'spInd': 0, 'spVal': 0.1333, 'left': {'spInd': 0, 'spVal': 0.146366, 'left': {'spInd': 0, 'spVal': 0.148049, 'left': {'spInd': 0, 'spVal': 0.180506, 'left': {'spInd': 0, 'spVal': 0.18351, 'left': 0.113685, 'right': 0.184843}, 'right': {'spInd': 0, 'spVal': 0.152324, 'left': 0.103676, 'right': 0.132858}}, 'right': 0.204298}, 'right': {'spInd': 0, 'spVal': 0.145809, 'left': 0.034283, 'right': 0.136979}}, 'right': {'spInd': 0, 'spVal': 0.130962, 'left': {'spInd': 0, 'spVal': 0.132543, 'left': -0.223143, 'right': -0.329372}, 'right': {'spInd': 0, 'spVal': 0.118156, 'left': {'spInd': 0, 'spVal': 0.129061, 'left': {'spInd': 0, 'spVal': 0.130052, 'left': 0.184241, 'right': -0.026167}, 'right': 0.305107}, 'right': {'spInd': 0, 'spVal': 0.096994, 'left': {'spInd': 0, 'spVal': 0.098016, 'left': {'spInd': 0, 'spVal': 0.101149, 'left': -0.077409, 'right': {'spInd': 0, 'spVal': 0.099142, 'left': 0.068834, 'right': 0.02528}}, 'right': -0.33276}, 'right': {'spInd': 0, 'spVal': 0.091358, 'left': 0.227167, 'right': {'spInd': 0, 'spVal': 0.084248, 'left': 0.099935, 'right': -0.019547}}}}}}}, 'right': {'spInd': 0, 'spVal': 0.071769, 'left': {'spInd': 0, 'spVal': 0.074795, 'left': -0.269756, 'right': {'spInd': 0, 'spVal': 0.072243, 'left': -0.349692, 'right': -0.420983}}, 'right': {'spInd': 0, 'spVal': 0.065615, 'left': {'spInd': 0, 'spVal': 0.066172, 'left': -0.110946, 'right': 0.052439}, 'right': -0.30697}}}, 'right': {'spInd': 0, 'spVal': 0.014083, 'left': {'spInd': 0, 'spVal': 0.036492, 'left': 0.064496, 'right': {'spInd': 0, 'spVal': 0.036098, 'left': 0.408155, 'right': 0.155096}}, 'right': {'spInd': 0, 'spVal': 0.009849, 'left': -0.132525, 'right': {'spInd': 0, 'spVal': 0.008307, 'left': 0.056594, 'right': {'spInd': 0, 'spVal': 0.000234, 'left': {'spInd': 0, 'spVal': 0.007044, 'left': 0.069976, 'right': 0.09415}, 'right': 0.060903}}}}}}}}\n"
     ]
    }
   ],
   "source": [
    "myDat = loadDataSet('ex00.txt') # 加载数据集\n",
    "regTree = createTree(myDat,ops=(0,1)) # 创建树\n",
    "print(regTree) # 打印树"
   ]
  },
  {
   "cell_type": "markdown",
   "metadata": {},
   "source": [
    "### 9.4 Tree pruning"
   ]
  },
  {
   "cell_type": "markdown",
   "metadata": {},
   "source": [
    "##### 9.4.1 Prepruning"
   ]
  },
  {
   "cell_type": "code",
   "execution_count": 10,
   "metadata": {},
   "outputs": [
    {
     "name": "stdout",
     "output_type": "stream",
     "text": [
      "{'spInd': 0, 'spVal': 0.499171, 'left': {'spInd': 0, 'spVal': 0.729397, 'left': {'spInd': 0, 'spVal': 0.952833, 'left': {'spInd': 0, 'spVal': 0.958512, 'left': 105.24862350000001, 'right': 112.42895575000001}, 'right': {'spInd': 0, 'spVal': 0.759504, 'left': {'spInd': 0, 'spVal': 0.790312, 'left': {'spInd': 0, 'spVal': 0.833026, 'left': {'spInd': 0, 'spVal': 0.944221, 'left': 87.3103875, 'right': {'spInd': 0, 'spVal': 0.85497, 'left': {'spInd': 0, 'spVal': 0.910975, 'left': 96.452867, 'right': {'spInd': 0, 'spVal': 0.892999, 'left': 104.825409, 'right': {'spInd': 0, 'spVal': 0.872883, 'left': 95.181793, 'right': 102.25234449999999}}}, 'right': 95.27584316666666}}, 'right': {'spInd': 0, 'spVal': 0.811602, 'left': 81.110152, 'right': 88.78449880000001}}, 'right': 102.35780185714285}, 'right': 78.08564325}}, 'right': {'spInd': 0, 'spVal': 0.640515, 'left': {'spInd': 0, 'spVal': 0.666452, 'left': {'spInd': 0, 'spVal': 0.706961, 'left': 114.554706, 'right': {'spInd': 0, 'spVal': 0.698472, 'left': 104.82495374999999, 'right': 108.92921799999999}}, 'right': 114.1516242857143}, 'right': {'spInd': 0, 'spVal': 0.613004, 'left': 93.67344971428572, 'right': {'spInd': 0, 'spVal': 0.582311, 'left': 123.2101316, 'right': {'spInd': 0, 'spVal': 0.553797, 'left': 97.20018024999999, 'right': {'spInd': 0, 'spVal': 0.51915, 'left': {'spInd': 0, 'spVal': 0.543843, 'left': 109.38961049999999, 'right': 110.979946}, 'right': 101.73699325000001}}}}}}, 'right': {'spInd': 0, 'spVal': 0.457563, 'left': {'spInd': 0, 'spVal': 0.467383, 'left': 12.50675925, 'right': 3.4331330000000007}, 'right': {'spInd': 0, 'spVal': 0.126833, 'left': {'spInd': 0, 'spVal': 0.373501, 'left': {'spInd': 0, 'spVal': 0.437652, 'left': -12.558604833333334, 'right': {'spInd': 0, 'spVal': 0.412516, 'left': 14.38417875, 'right': {'spInd': 0, 'spVal': 0.385021, 'left': -0.8923554999999995, 'right': 3.6584772500000016}}}, 'right': {'spInd': 0, 'spVal': 0.335182, 'left': {'spInd': 0, 'spVal': 0.350725, 'left': -15.08511175, 'right': -22.693879600000002}, 'right': {'spInd': 0, 'spVal': 0.324274, 'left': 15.05929075, 'right': {'spInd': 0, 'spVal': 0.297107, 'left': -19.9941552, 'right': {'spInd': 0, 'spVal': 0.166765, 'left': {'spInd': 0, 'spVal': 0.202161, 'left': {'spInd': 0, 'spVal': 0.217214, 'left': {'spInd': 0, 'spVal': 0.228473, 'left': {'spInd': 0, 'spVal': 0.25807, 'left': 0.40377471428571476, 'right': -13.070501}, 'right': 6.770429}, 'right': -11.822278500000001}, 'right': 3.4496025}, 'right': {'spInd': 0, 'spVal': 0.156067, 'left': -12.1079725, 'right': -6.247900000000001}}}}}}, 'right': {'spInd': 0, 'spVal': 0.084661, 'left': 6.509843285714284, 'right': {'spInd': 0, 'spVal': 0.044737, 'left': -2.544392714285715, 'right': 4.091626}}}}}\n",
      "{'spInd': 0, 'spVal': 0.499171, 'left': 101.35815937735848, 'right': -2.637719329787234}\n"
     ]
    }
   ],
   "source": [
    "\n",
    "myDat = loadDataSet('ex2.txt')  # 加载数据集\n",
    "regTree = createTree(myDat)  # 创建树\n",
    "print(regTree)  # 打印树\n",
    "\n",
    "regTree = createTree(myDat, ops=(10000, 4))  # 创建树\n",
    "print(regTree)  # 打印树"
   ]
  },
  {
   "cell_type": "markdown",
   "metadata": {},
   "source": [
    "##### 9.4.2 Postpruning"
   ]
  },
  {
   "cell_type": "code",
   "execution_count": 11,
   "metadata": {},
   "outputs": [],
   "source": [
    "def isTree(obj):\n",
    "    '''\n",
    "    判断对象是否为树\n",
    "    :param obj: 对象\n",
    "    :return: True or False\n",
    "    '''\n",
    "    return (type(obj).__name__ == 'dict') # 如果对象的类型是字典，返回True，否则返回False\n",
    "\n",
    "def getMean(tree):\n",
    "    '''\n",
    "    获取树的均值\n",
    "    :param tree: 树\n",
    "    :return: 均值\n",
    "    '''\n",
    "    if isTree(tree['right']): # 如果右子树是树，递归获取均值\n",
    "        return getMean(tree['right'])\n",
    "    if isTree(tree['left']): # 如果左子树是树，递归获取均值\n",
    "        return getMean(tree['left'])\n",
    "    return tree # 返回叶子节点的值"
   ]
  },
  {
   "cell_type": "code",
   "execution_count": 12,
   "metadata": {},
   "outputs": [],
   "source": [
    "def prune(tree, testData):\n",
    "    '''\n",
    "    剪枝函数\n",
    "    :param tree: 树\n",
    "    :param testData: 测试数据\n",
    "    :return: 剪枝后的树\n",
    "    '''\n",
    "    if np.shape(testData)[0] == 0: # 如果测试数据为空，返回树\n",
    "        return getMean(tree)\n",
    "    if (isTree(tree['left']) or isTree(tree['right'])): # 如果左子树或右子树是树\n",
    "        lSet, rSet = binSplitDataSet(testData, tree['spInd'], tree['spVal']) # 二分测试数据\n",
    "        if isTree(tree['left']): # 如果左子树是树，递归剪枝\n",
    "            tree['left'] = prune(tree['left'], lSet)\n",
    "        if isTree(tree['right']): # 如果右子树是树，递归剪枝\n",
    "            tree['right'] = prune(tree['right'], rSet)\n",
    "    if not isTree(tree['left']) and not isTree(tree['right']): # 如果左子树和右子树都是叶子节点\n",
    "        lSet, rSet = binSplitDataSet(testData, tree['spInd'], tree['spVal']) # 二分测试数据\n",
    "        errorNoMerge = sum(np.power(lSet[:, -1] - tree['left'], 2)) + sum(np.power(rSet[:, -1] - tree['right'], 2)) # 计算不合并的误差\n",
    "        treeMean = (tree['left'] + tree['right']) / 2.0 # 计算合并后的均值\n",
    "        errorMerge = sum(np.power(testData[:, -1] - treeMean, 2)) # 计算合并后的误差\n",
    "        if errorMerge < errorNoMerge: # 如果合并后的误差小于不合并的误差，返回合并后的均值\n",
    "            print(\"merging\")\n",
    "            return treeMean\n",
    "        else:\n",
    "            return tree # 返回原来的树\n",
    "    else:\n",
    "        return tree # 返回原来的树"
   ]
  },
  {
   "cell_type": "code",
   "execution_count": 13,
   "metadata": {},
   "outputs": [
    {
     "name": "stdout",
     "output_type": "stream",
     "text": [
      "merging\n",
      "merging\n",
      "merging\n",
      "merging\n",
      "merging\n",
      "merging\n",
      "merging\n",
      "merging\n",
      "merging\n",
      "merging\n",
      "merging\n",
      "merging\n",
      "merging\n",
      "merging\n",
      "merging\n",
      "merging\n",
      "merging\n",
      "merging\n",
      "merging\n",
      "merging\n",
      "merging\n",
      "merging\n",
      "merging\n",
      "merging\n",
      "merging\n",
      "merging\n",
      "merging\n",
      "merging\n",
      "merging\n",
      "merging\n",
      "merging\n",
      "merging\n",
      "merging\n",
      "merging\n",
      "merging\n",
      "merging\n",
      "merging\n",
      "merging\n",
      "merging\n",
      "merging\n",
      "merging\n",
      "{'spInd': 0, 'spVal': 0.499171, 'left': {'spInd': 0, 'spVal': 0.729397, 'left': {'spInd': 0, 'spVal': 0.952833, 'left': {'spInd': 0, 'spVal': 0.965969, 'left': 92.5239915, 'right': {'spInd': 0, 'spVal': 0.956951, 'left': {'spInd': 0, 'spVal': 0.958512, 'left': {'spInd': 0, 'spVal': 0.960398, 'left': 112.386764, 'right': 123.559747}, 'right': 135.837013}, 'right': {'spInd': 0, 'spVal': 0.953902, 'left': {'spInd': 0, 'spVal': 0.954711, 'left': 82.016541, 'right': 100.935789}, 'right': 130.92648}}}, 'right': {'spInd': 0, 'spVal': 0.759504, 'left': {'spInd': 0, 'spVal': 0.763328, 'left': {'spInd': 0, 'spVal': 0.769043, 'left': {'spInd': 0, 'spVal': 0.790312, 'left': {'spInd': 0, 'spVal': 0.806158, 'left': {'spInd': 0, 'spVal': 0.815215, 'left': {'spInd': 0, 'spVal': 0.833026, 'left': {'spInd': 0, 'spVal': 0.841547, 'left': {'spInd': 0, 'spVal': 0.841625, 'left': {'spInd': 0, 'spVal': 0.944221, 'left': {'spInd': 0, 'spVal': 0.948822, 'left': 96.41885225, 'right': 69.318649}, 'right': {'spInd': 0, 'spVal': 0.85497, 'left': {'spInd': 0, 'spVal': 0.936524, 'left': 110.03503850000001, 'right': {'spInd': 0, 'spVal': 0.934853, 'left': 65.548418, 'right': {'spInd': 0, 'spVal': 0.925782, 'left': 115.753994, 'right': {'spInd': 0, 'spVal': 0.910975, 'left': {'spInd': 0, 'spVal': 0.912161, 'left': 94.3961145, 'right': 85.005351}, 'right': {'spInd': 0, 'spVal': 0.901444, 'left': {'spInd': 0, 'spVal': 0.908629, 'left': 106.814667, 'right': 118.513475}, 'right': {'spInd': 0, 'spVal': 0.901421, 'left': 87.300625, 'right': {'spInd': 0, 'spVal': 0.892999, 'left': {'spInd': 0, 'spVal': 0.900699, 'left': 100.133819, 'right': 108.094934}, 'right': {'spInd': 0, 'spVal': 0.888426, 'left': 82.436686, 'right': {'spInd': 0, 'spVal': 0.872199, 'left': 98.54454949999999, 'right': 106.16859550000001}}}}}}}}}, 'right': {'spInd': 0, 'spVal': 0.84294, 'left': {'spInd': 0, 'spVal': 0.847219, 'left': 89.20993, 'right': 76.240984}, 'right': 95.893131}}}, 'right': 60.552308}, 'right': 124.87935300000001}, 'right': {'spInd': 0, 'spVal': 0.823848, 'left': 76.723835, 'right': {'spInd': 0, 'spVal': 0.819722, 'left': 59.342323, 'right': 70.054508}}}, 'right': {'spInd': 0, 'spVal': 0.811602, 'left': 118.319942, 'right': {'spInd': 0, 'spVal': 0.811363, 'left': 99.841379, 'right': 112.981216}}}, 'right': 73.49439925}, 'right': {'spInd': 0, 'spVal': 0.786865, 'left': {'spInd': 0, 'spVal': 0.787755, 'left': 110.15973, 'right': 118.642009}, 'right': 102.26514075}}, 'right': 64.041941}, 'right': 115.199195}, 'right': {'spInd': 0, 'spVal': 0.740859, 'left': 72.328308, 'right': {'spInd': 0, 'spVal': 0.731636, 'left': 93.773929, 'right': 73.912028}}}}, 'right': {'spInd': 0, 'spVal': 0.640515, 'left': {'spInd': 0, 'spVal': 0.642373, 'left': {'spInd': 0, 'spVal': 0.642707, 'left': {'spInd': 0, 'spVal': 0.665329, 'left': {'spInd': 0, 'spVal': 0.706961, 'left': {'spInd': 0, 'spVal': 0.70889, 'left': {'spInd': 0, 'spVal': 0.716211, 'left': 110.90283, 'right': {'spInd': 0, 'spVal': 0.710234, 'left': 103.345308, 'right': 108.553919}}, 'right': 135.416767}, 'right': {'spInd': 0, 'spVal': 0.698472, 'left': {'spInd': 0, 'spVal': 0.69892, 'left': {'spInd': 0, 'spVal': 0.699873, 'left': {'spInd': 0, 'spVal': 0.70639, 'left': 106.180427, 'right': 105.062147}, 'right': 115.586605}, 'right': 92.470636}, 'right': {'spInd': 0, 'spVal': 0.689099, 'left': 120.521925, 'right': {'spInd': 0, 'spVal': 0.666452, 'left': 101.91115275, 'right': {'spInd': 0, 'spVal': 0.665652, 'left': 120.014736, 'right': 105.547997}}}}}, 'right': {'spInd': 0, 'spVal': 0.661073, 'left': 121.980607, 'right': {'spInd': 0, 'spVal': 0.652462, 'left': 115.687524, 'right': 112.715799}}}, 'right': 82.500766}, 'right': 140.613941}, 'right': {'spInd': 0, 'spVal': 0.613004, 'left': {'spInd': 0, 'spVal': 0.623909, 'left': {'spInd': 0, 'spVal': 0.628061, 'left': {'spInd': 0, 'spVal': 0.637999, 'left': 82.713621, 'right': {'spInd': 0, 'spVal': 0.632691, 'left': 91.656617, 'right': 93.645293}}, 'right': {'spInd': 0, 'spVal': 0.624827, 'left': 117.628346, 'right': 105.970743}}, 'right': 82.04976400000001}, 'right': {'spInd': 0, 'spVal': 0.606417, 'left': 168.180746, 'right': {'spInd': 0, 'spVal': 0.513332, 'left': {'spInd': 0, 'spVal': 0.533511, 'left': {'spInd': 0, 'spVal': 0.548539, 'left': {'spInd': 0, 'spVal': 0.553797, 'left': {'spInd': 0, 'spVal': 0.560301, 'left': {'spInd': 0, 'spVal': 0.599142, 'left': 93.521396, 'right': {'spInd': 0, 'spVal': 0.589806, 'left': 130.378529, 'right': {'spInd': 0, 'spVal': 0.582311, 'left': 111.9849935, 'right': {'spInd': 0, 'spVal': 0.571214, 'left': 82.589328, 'right': {'spInd': 0, 'spVal': 0.569327, 'left': 114.872056, 'right': 108.435392}}}}}, 'right': 82.903945}, 'right': 129.0624485}, 'right': {'spInd': 0, 'spVal': 0.546601, 'left': 83.114502, 'right': {'spInd': 0, 'spVal': 0.537834, 'left': {'spInd': 0, 'spVal': 0.543843, 'left': 96.319043, 'right': 98.36201}, 'right': 90.995536}}}, 'right': {'spInd': 0, 'spVal': 0.51915, 'left': {'spInd': 0, 'spVal': 0.531944, 'left': 129.766743, 'right': 124.795495}, 'right': 116.176162}}, 'right': {'spInd': 0, 'spVal': 0.508548, 'left': 101.075609, 'right': {'spInd': 0, 'spVal': 0.508542, 'left': 93.292829, 'right': 96.403373}}}}}}}, 'right': {'spInd': 0, 'spVal': 0.457563, 'left': {'spInd': 0, 'spVal': 0.465561, 'left': {'spInd': 0, 'spVal': 0.467383, 'left': {'spInd': 0, 'spVal': 0.483803, 'left': {'spInd': 0, 'spVal': 0.487381, 'left': 8.53677, 'right': 27.729263}, 'right': 5.224234}, 'right': {'spInd': 0, 'spVal': 0.46568, 'left': -9.712925, 'right': -23.777531}}, 'right': {'spInd': 0, 'spVal': 0.463241, 'left': 30.051931, 'right': 17.171057}}, 'right': {'spInd': 0, 'spVal': 0.455761, 'left': -34.044555, 'right': {'spInd': 0, 'spVal': 0.126833, 'left': {'spInd': 0, 'spVal': 0.130626, 'left': {'spInd': 0, 'spVal': 0.382037, 'left': {'spInd': 0, 'spVal': 0.388789, 'left': {'spInd': 0, 'spVal': 0.437652, 'left': {'spInd': 0, 'spVal': 0.454312, 'left': {'spInd': 0, 'spVal': 0.454375, 'left': 9.841938, 'right': 3.043912}, 'right': -14.825274}, 'right': {'spInd': 0, 'spVal': 0.412516, 'left': {'spInd': 0, 'spVal': 0.418943, 'left': {'spInd': 0, 'spVal': 0.426711, 'left': {'spInd': 0, 'spVal': 0.428582, 'left': 19.745224, 'right': 15.224266}, 'right': -21.594268}, 'right': 44.161493}, 'right': {'spInd': 0, 'spVal': 0.403228, 'left': -26.419289, 'right': 0.6359300000000001}}}, 'right': 23.197474}, 'right': {'spInd': 0, 'spVal': 0.335182, 'left': {'spInd': 0, 'spVal': 0.370042, 'left': {'spInd': 0, 'spVal': 0.378965, 'left': -29.007783, 'right': {'spInd': 0, 'spVal': 0.373501, 'left': {'spInd': 0, 'spVal': 0.377383, 'left': 13.583555, 'right': 5.241196}, 'right': -8.228297}}, 'right': {'spInd': 0, 'spVal': 0.35679, 'left': -32.124495, 'right': {'spInd': 0, 'spVal': 0.350725, 'left': -9.9938275, 'right': {'spInd': 0, 'spVal': 0.3417, 'left': -16.930416, 'right': -23.547711}}}}, 'right': {'spInd': 0, 'spVal': 0.324274, 'left': {'spInd': 0, 'spVal': 0.3349, 'left': 2.768225, 'right': 18.97665}, 'right': {'spInd': 0, 'spVal': 0.309133, 'left': {'spInd': 0, 'spVal': 0.310956, 'left': -20.3973335, 'right': -49.939516}, 'right': {'spInd': 0, 'spVal': 0.131833, 'left': {'spInd': 0, 'spVal': 0.138619, 'left': {'spInd': 0, 'spVal': 0.156067, 'left': {'spInd': 0, 'spVal': 0.166765, 'left': {'spInd': 0, 'spVal': 0.193282, 'left': {'spInd': 0, 'spVal': 0.211633, 'left': {'spInd': 0, 'spVal': 0.228473, 'left': {'spInd': 0, 'spVal': 0.25807, 'left': {'spInd': 0, 'spVal': 0.284794, 'left': {'spInd': 0, 'spVal': 0.300318, 'left': 8.814725, 'right': {'spInd': 0, 'spVal': 0.297107, 'left': -18.051318, 'right': {'spInd': 0, 'spVal': 0.295993, 'left': -1.798377, 'right': {'spInd': 0, 'spVal': 0.290749, 'left': -14.988279, 'right': -14.391613}}}}, 'right': {'spInd': 0, 'spVal': 0.273863, 'left': 35.623746, 'right': {'spInd': 0, 'spVal': 0.264926, 'left': -9.457556, 'right': {'spInd': 0, 'spVal': 0.264639, 'left': 5.280579, 'right': 2.557923}}}}, 'right': {'spInd': 0, 'spVal': 0.228628, 'left': {'spInd': 0, 'spVal': 0.228751, 'left': -9.601409499999999, 'right': -30.812912}, 'right': -2.266273}}, 'right': 6.099239}, 'right': {'spInd': 0, 'spVal': 0.202161, 'left': {'spInd': 0, 'spVal': 0.206207, 'left': -8.332207, 'right': -12.619036}, 'right': -2.6781805}}, 'right': 9.5773855}, 'right': {'spInd': 0, 'spVal': 0.156273, 'left': {'spInd': 0, 'spVal': 0.164134, 'left': {'spInd': 0, 'spVal': 0.166431, 'left': -14.740059, 'right': -6.512506}, 'right': -27.405211}, 'right': 0.225886}}, 'right': {'spInd': 0, 'spVal': 0.13988, 'left': 7.557349, 'right': 7.336784}}, 'right': -29.087463}, 'right': 22.478291}}}}}, 'right': -39.524461}, 'right': {'spInd': 0, 'spVal': 0.124723, 'left': 22.891675, 'right': {'spInd': 0, 'spVal': 0.085111, 'left': {'spInd': 0, 'spVal': 0.108801, 'left': 6.196516, 'right': {'spInd': 0, 'spVal': 0.10796, 'left': -16.106164, 'right': {'spInd': 0, 'spVal': 0.085873, 'left': -1.293195, 'right': -10.137104}}}, 'right': {'spInd': 0, 'spVal': 0.084661, 'left': 37.820659, 'right': {'spInd': 0, 'spVal': 0.080061, 'left': -24.132226, 'right': {'spInd': 0, 'spVal': 0.068373, 'left': 15.824970500000001, 'right': {'spInd': 0, 'spVal': 0.061219, 'left': -15.160836, 'right': {'spInd': 0, 'spVal': 0.044737, 'left': {'spInd': 0, 'spVal': 0.053764, 'left': {'spInd': 0, 'spVal': 0.055862, 'left': 6.695567, 'right': -3.131497}, 'right': -13.731698}, 'right': 4.091626}}}}}}}}}}}\n"
     ]
    }
   ],
   "source": [
    "myTree = createTree(myDat, ops=(0, 1)) # 创建树\n",
    "myDatTest = loadDataSet('ex2test.txt') # 加载测试数据\n",
    "prune(myTree, myDatTest) # 剪枝\n",
    "print(myTree) # 打印剪枝后的树"
   ]
  },
  {
   "cell_type": "markdown",
   "metadata": {},
   "source": [
    "### 9.5 Model trees"
   ]
  },
  {
   "cell_type": "code",
   "execution_count": 14,
   "metadata": {},
   "outputs": [],
   "source": [
    "def linearSolve(dataSet):\n",
    "    '''\n",
    "    线性回归求解函数\n",
    "    :param dataSet: 数据集\n",
    "    :returns: \n",
    "        ws: 权重向量\n",
    "        X: 特征矩阵\n",
    "        Y: 标签矩阵\n",
    "    '''\n",
    "    m, n = np.shape(dataSet)\n",
    "    X = np.mat(np.ones((m, n))) # 创建一个m行n列的矩阵，元素全为1\n",
    "    Y = np.mat(np.ones((m, 1))) # 创建一个m行1列的矩阵，元素全为1\n",
    "    X[:, 1:n] = dataSet[:, 0:n - 1] # 将数据集的前n-1列赋值给X的第2到第n列\n",
    "    Y = dataSet[:, -1] # 获取数据集的最后一列\n",
    "    xTx = X.T * X # 计算X的转置乘以X\n",
    "    if np.linalg.det(xTx) == 0.0: # 如果xTx的行列式为0，返回None\n",
    "        print(\"This matrix is singular, cannot do inverse\")\n",
    "        return\n",
    "    ws = xTx.I * (X.T * Y) # 计算权重向量\n",
    "    return ws, X , Y"
   ]
  },
  {
   "cell_type": "code",
   "execution_count": 15,
   "metadata": {},
   "outputs": [],
   "source": [
    "def modelLeaf(dataSet):\n",
    "    '''\n",
    "    当数据集是线性回归时，返回权重向量\n",
    "    :param dataSet: 数据集\n",
    "    :return: 权重向量\n",
    "    '''\n",
    "    ws, X, Y = linearSolve(dataSet) # 线性回归求解\n",
    "    return ws # 返回权重向量\n",
    "\n",
    "def modelErr(dataSet):\n",
    "    '''\n",
    "    计算线性回归的误差\n",
    "    :param dataSet: 数据集\n",
    "    :return: 误差\n",
    "    '''\n",
    "    ws, X, Y = linearSolve(dataSet) # 线性回归求解\n",
    "    yHat = X * ws # 计算预测值\n",
    "    return sum(np.power(Y - yHat, 2)) # 返回误差"
   ]
  },
  {
   "cell_type": "code",
   "execution_count": 16,
   "metadata": {},
   "outputs": [
    {
     "name": "stdout",
     "output_type": "stream",
     "text": [
      "{'spInd': 0, 'spVal': 0.285477, 'left': matrix([[1.69855694e-03],\n",
      "        [1.19647739e+01]]), 'right': matrix([[3.46877936],\n",
      "        [1.18521743]])}\n"
     ]
    }
   ],
   "source": [
    "myDat2 = loadDataSet('exp2.txt') # 加载数据集\n",
    "regTree = createTree(myDat2, modelLeaf, modelErr, ops=(1, 10)) # 创建树\n",
    "print(regTree) # 打印树"
   ]
  },
  {
   "cell_type": "markdown",
   "metadata": {},
   "source": [
    "### 9.6 Example: comparing tree methods to standard regression"
   ]
  },
  {
   "cell_type": "code",
   "execution_count": 17,
   "metadata": {},
   "outputs": [],
   "source": [
    "def regTreeEval(model, inDat):\n",
    "    '''\n",
    "    计算回归树的预测值\n",
    "    :param model: 模型\n",
    "    :param inDat: 输入数据\n",
    "    :return: 预测值\n",
    "    '''\n",
    "    return float(model) # 返回模型的值\n",
    "\n",
    "def modelTreeEval(model, inDat):\n",
    "    '''\n",
    "    计算线性回归树的预测值\n",
    "    :param model: 模型\n",
    "    :param inDat: 输入数据\n",
    "    :return: 预测值\n",
    "    '''\n",
    "    n = np.shape(inDat)[1] # 获取输入数据的列数\n",
    "    X = np.mat(np.ones((1, n + 1))) # 创建一个1行n+1列的矩阵，元素全为1\n",
    "    X[:, 1:n + 1] = inDat # 将输入数据赋值给X的第2到第n+1列\n",
    "    return float(X * model) # 返回预测值"
   ]
  },
  {
   "cell_type": "code",
   "execution_count": 18,
   "metadata": {},
   "outputs": [],
   "source": [
    "def treeForeCast(tree, inData, modelEval=regTreeEval):\n",
    "    '''\n",
    "    计算树的预测值\n",
    "    :param tree: 树\n",
    "    :param inData: 输入数据\n",
    "    :param modelEval: 模型评估函数\n",
    "    :return: 预测值\n",
    "    '''\n",
    "    if not isTree(tree): # 如果树不是树，返回模型评估的值\n",
    "        return modelEval(tree, inData)\n",
    "    if inData[tree['spInd']] > tree['spVal']: # 如果输入数据的特征值大于特征值，递归计算右子树\n",
    "        if isTree(tree['right']):\n",
    "            return treeForeCast(tree['right'], inData, modelEval)\n",
    "        else:\n",
    "            return modelEval(tree['right'], inData) # 返回模型评估的值\n",
    "    else: # 如果输入数据的特征值小于等于特征值，递归计算左子树\n",
    "        if isTree(tree['left']):\n",
    "            return treeForeCast(tree['left'], inData, modelEval)\n",
    "        else:\n",
    "            return modelEval(tree['left'], inData) # 返回模型评估的值"
   ]
  },
  {
   "cell_type": "code",
   "execution_count": 19,
   "metadata": {},
   "outputs": [],
   "source": [
    "def createForeCast(tree, testData, modelEval=regTreeEval):\n",
    "    '''\n",
    "    计算树的预测值\n",
    "    :param tree: 树\n",
    "    :param inData: 输入数据\n",
    "    :param modelEval: 模型评估函数\n",
    "    :return: 预测值\n",
    "    '''\n",
    "    m = len(testData) # 获取测试数据的大小\n",
    "    yHat = np.mat(np.zeros((m, 1))) # 创建一个m行1列的矩阵，元素全为0\n",
    "    \n",
    "    for i in range(m): # 遍历测试数据\n",
    "        yHat[i, 0] = treeForeCast(tree, np.mat(testData[i]), modelEval)\n",
    "    return yHat # 返回预测值"
   ]
  },
  {
   "cell_type": "code",
   "execution_count": 20,
   "metadata": {},
   "outputs": [
    {
     "name": "stdout",
     "output_type": "stream",
     "text": [
      "{'spInd': 0, 'spVal': 10.0, 'left': {'spInd': 0, 'spVal': 17.0, 'left': {'spInd': 0, 'spVal': 20.0, 'left': 168.34161286956524, 'right': 157.0484078846154}, 'right': {'spInd': 0, 'spVal': 14.0, 'left': 141.06067981481482, 'right': 122.90893026923078}}, 'right': {'spInd': 0, 'spVal': 7.0, 'left': 94.7066578125, 'right': {'spInd': 0, 'spVal': 5.0, 'left': 69.02117757692308, 'right': 50.94683665}}}\n",
      "--------------\n",
      "\n",
      "回归树: -0.8775461454371768\n",
      "{'spInd': 0, 'spVal': 4.0, 'left': {'spInd': 0, 'spVal': 12.0, 'left': {'spInd': 0, 'spVal': 16.0, 'left': {'spInd': 0, 'spVal': 20.0, 'left': matrix([[47.58621512],\n",
      "        [ 5.51066299]]), 'right': matrix([[37.54851927],\n",
      "        [ 6.23298637]])}, 'right': matrix([[43.41251481],\n",
      "        [ 6.37966738]])}, 'right': {'spInd': 0, 'spVal': 9.0, 'left': matrix([[-2.87684083],\n",
      "        [10.20804482]]), 'right': {'spInd': 0, 'spVal': 6.0, 'left': matrix([[-11.84548851],\n",
      "        [ 12.12382261]]), 'right': matrix([[-17.21714265],\n",
      "        [ 13.72153115]])}}}, 'right': matrix([[ 68.87014372],\n",
      "        [-11.78556471]])}\n",
      "--------------\n",
      "\n",
      "模型树: -0.9621322244957761\n",
      "线性回归: [[37.58916794  6.18978355]]\n",
      "线性回归： 0.9434684235674767\n"
     ]
    }
   ],
   "source": [
    "trainMat = loadDataSet('bikeSpeedVsIq_train.txt') # 加载训练数据\n",
    "testMat = loadDataSet('bikeSpeedVsIq_test.txt') # 加载测试数据\n",
    "\n",
    "# 创建回归树\n",
    "myTree1 = createTree(trainMat, ops=(1, 20))\n",
    "print(myTree1)\n",
    "yHat1 = createForeCast(myTree1, testMat[:, 0])\n",
    "print(\"--------------\\n\")\n",
    "# print yHat1\n",
    "# print \"ssss==>\", testMat[:, 1]\n",
    "print(\"回归树:\", np.corrcoef(yHat1, testMat[:, 1],rowvar=0)[0, 1])\n",
    "\n",
    "# 创建模型树\n",
    "myTree2 = createTree(trainMat, modelLeaf, modelErr, ops=(1, 20))\n",
    "print(myTree2)\n",
    "yHat2 = createForeCast(myTree2, testMat[:, 0], modelTreeEval)\n",
    "print(\"--------------\\n\")\n",
    "print(\"模型树:\", np.corrcoef(yHat2, testMat[:, 1],rowvar=0)[0, 1]) # 打印相关系数\n",
    "\n",
    "# 线性回归\n",
    "ws, X, Y = linearSolve(trainMat) # 线性回归求解\n",
    "print(\"线性回归:\", ws.T) # 打印权重向量\n",
    "m = len(testMat[:,0]) # 获取测试数据的大小\n",
    "yHat3 = np.mat(np.zeros((m, 1))) # 创建一个m行1列的矩阵，元素全为0\n",
    "for i in range(np.shape(testMat)[0]): # 遍历测试数据\n",
    "    yHat3[i] = testMat[i, 0] * ws[1, 0] + ws[0, 0] # 计算预测值\n",
    "print(\"线性回归：\", np.corrcoef(yHat3, testMat[:, 1],rowvar=0)[0, 1]) # 打印相关系数"
   ]
  },
  {
   "cell_type": "markdown",
   "metadata": {},
   "source": [
    "### 9.7 Using Tkinter to create a GUI in Python"
   ]
  },
  {
   "cell_type": "code",
   "execution_count": 22,
   "metadata": {},
   "outputs": [],
   "source": [
    "import tkinter\n",
    "import numpy as np\n",
    "import matplotlib\n",
    "from matplotlib.figure import Figure\n",
    "from matplotlib.backends.backend_tkagg import FigureCanvasTkAgg\n",
    "matplotlib.use('TkAgg')"
   ]
  },
  {
   "cell_type": "code",
   "execution_count": 26,
   "metadata": {},
   "outputs": [],
   "source": [
    "def reDraw(tolS, tolN, chkBtnVar):\n",
    "    reDraw.f.clf() # 清空画布\n",
    "    reDraw.a = reDraw.f.add_subplot(111) # 添加子图\n",
    "    \n",
    "    # 检查复选框是否被选中\n",
    "    if chkBtnVar.get() == 1:\n",
    "        if tolN < 2:\n",
    "            tolN = 2\n",
    "        # 如果选中，使用模型树\n",
    "        myTree = createTree(reDraw.rawDat, modelLeaf, modelErr, ops=(tolS, tolN))\n",
    "        yHat = createForeCast(myTree, reDraw.testDat, modelTreeEval)\n",
    "    else:\n",
    "        # 如果不选中，使用回归树\n",
    "        myTree = createTree(reDraw.rawDat, ops=(tolS, tolN))\n",
    "        yHat = createForeCast(myTree, reDraw.testDat)\n",
    "    print(np.shape(reDraw.rawDat[:, 0]))\n",
    "    x = np.squeeze(np.asarray(reDraw.rawDat[:, 0])) # 将数据转换为一维数组\n",
    "    y = np.squeeze(np.asarray(reDraw.rawDat[:, 1])) # 将数据转换为一维数组\n",
    "    reDraw.a.scatter(x, y, s=5) # 绘制散点图\n",
    "    reDraw.a.plot(reDraw.testDat, yHat, linewidth=2.0, c='red') # 绘制预测值\n",
    "    reDraw.canvas.draw() # 刷新画布"
   ]
  },
  {
   "cell_type": "code",
   "execution_count": 24,
   "metadata": {},
   "outputs": [],
   "source": [
    "def getInputs(tolNentry, tolSentry):\n",
    "    try:\n",
    "        tolN = int(tolNentry.get()) # 获取最小样本数\n",
    "    except:\n",
    "        tolN = 10 # 如果获取失败，设置为10\n",
    "        print(\"enter Integer for tolN\")\n",
    "        tolNentry.delete(0, tkinter.END) # 清空输入框\n",
    "        tolNentry.insert(0, '10')\n",
    "        \n",
    "    try:\n",
    "        tolS = float(tolSentry.get()) # 获取容许的误差下降值\n",
    "    except:\n",
    "        tolS = 1.0\n",
    "        print(\"enter Float for tolS\")\n",
    "        tolSentry.delete(0, tkinter.END)\n",
    "        tolSentry.insert(0, '1.0')\n",
    "    return tolN, tolS # 返回最小样本数和容许的误差下降值\n",
    "\n",
    "def drawNewTree(tolNentry, tolSentry, chkBtnVar):\n",
    "    tolN, tolS = getInputs(tolNentry,tolSentry) # 获取最小样本数和容许的误差下降值\n",
    "    reDraw(tolS, tolN, chkBtnVar) # 绘制新树"
   ]
  },
  {
   "cell_type": "code",
   "execution_count": 30,
   "metadata": {},
   "outputs": [
    {
     "name": "stdout",
     "output_type": "stream",
     "text": [
      "(200, 1)\n"
     ]
    }
   ],
   "source": [
    "root = tkinter.Tk() # 创建窗口\n",
    "tkinter.Label(root, text=\"Plot Place Holder\").grid(row=3, columnspan=3) # 创建标签, 占据3列\n",
    "\n",
    "tkinter.Label(root, text=\"tolN\").grid(row=1, column=0) # 创建标签, 占据1行1列\n",
    "tolNentry = tkinter.Entry(root) # 创建输入框\n",
    "tolNentry.grid(row=1, column=1) # 创建输入框, 占据1行2列\n",
    "tolNentry.insert(0, \"10\") # 设置输入框的默认值\n",
    "\n",
    "tkinter.Label(root, text=\"tolS\").grid(row=2, column=0) # 创建标签, 占据2行1列\n",
    "tolSentry = tkinter.Entry(root) # 创建输入框\n",
    "tolSentry.grid(row=2, column=1) # 创建输入框, 占据2行2列\n",
    "tolSentry.insert(0, \"1.0\") # 设置输入框的默认值\n",
    "\n",
    "chkBtnVar = tkinter.IntVar() # 创建变量\n",
    "chkBtn = tkinter.Checkbutton(root, text=\"Model tree\", variable=chkBtnVar) # 创建复选框\n",
    "chkBtn.grid(row=3, column=0, columnspan=2) # 创建复选框, 占据3行1列\n",
    "\n",
    "tkinter.Button(root, text=\"ReDraw\", command=lambda: drawNewTree(tolNentry, tolSentry, chkBtnVar)).grid(row=1, column=2, rowspan=3) # 创建按钮, 占据1行3列\n",
    "tkinter.Button(root, text=\"Quit\", fg=\"black\", command=root.quit).grid(row=1, column=2)\n",
    "\n",
    "reDraw.f = Figure(figsize=(5, 4), dpi=100) # 创建图形\n",
    "reDraw.canvas = FigureCanvasTkAgg(reDraw.f, master=root) # 创建画布\n",
    "reDraw.canvas.draw() # 显示画布\n",
    "reDraw.canvas.get_tk_widget().grid(row=0, rowspan=3) # 创建画布, 占据0行1列\n",
    "\n",
    "reDraw.rawDat = loadDataSet('sine.txt') # 加载数据集\n",
    "reDraw.testDat = np.arange(min(reDraw.rawDat[:, 0]), max(reDraw.rawDat[:, 0]), 0.01) # 创建测试数据\n",
    "reDraw(1.0, 10 , chkBtnVar) # 绘制图形"
   ]
  },
  {
   "cell_type": "code",
   "execution_count": 31,
   "metadata": {},
   "outputs": [
    {
     "name": "stdout",
     "output_type": "stream",
     "text": [
      "(200, 1)\n",
      "(200, 1)\n",
      "(200, 1)\n",
      "(200, 1)\n",
      "(200, 1)\n",
      "(200, 1)\n",
      "(200, 1)\n"
     ]
    }
   ],
   "source": [
    "root.mainloop() # 进入消息循环"
   ]
  }
 ],
 "metadata": {
  "kernelspec": {
   "display_name": "base",
   "language": "python",
   "name": "python3"
  },
  "language_info": {
   "codemirror_mode": {
    "name": "ipython",
    "version": 3
   },
   "file_extension": ".py",
   "mimetype": "text/x-python",
   "name": "python",
   "nbconvert_exporter": "python",
   "pygments_lexer": "ipython3",
   "version": "3.8.20"
  }
 },
 "nbformat": 4,
 "nbformat_minor": 2
}
